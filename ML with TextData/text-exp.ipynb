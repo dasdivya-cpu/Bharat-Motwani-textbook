{
 "cells": [
  {
   "cell_type": "markdown",
   "id": "4e686d81-2981-4cca-8ed7-740c2623c5dc",
   "metadata": {},
   "source": [
    "# Text Similarity"
   ]
  },
  {
   "cell_type": "code",
   "execution_count": 1,
   "id": "175853da-5cbf-4692-89a0-bfb7a8998399",
   "metadata": {},
   "outputs": [
    {
     "name": "stdout",
     "output_type": "stream",
     "text": [
      "{'like', 'dogs.', 'i'} {'dogs.', 'i', 'hate'}\n",
      "0.5\n"
     ]
    }
   ],
   "source": [
    "# documents\n",
    "doc1, doc2='I like dogs.', 'I hate dogs.'\n",
    "\n",
    "# Split the documents and create tokens\n",
    "doc1_tokens=set(doc1.lower().split())\n",
    "doc2_tokens=set(doc2.lower().split())\n",
    "\n",
    "#Print the tokens\n",
    "print(doc1_tokens,doc2_tokens)\n",
    "\n",
    "\n",
    "# Calculate the Jaccard Similarity\n",
    "jaccard_similarity=  len(doc1_tokens.intersection(doc2_tokens))/len(doc1_tokens.union(doc2_tokens))\n",
    "\n",
    "# Print the Jaccard Simialrity score\n",
    "print(jaccard_similarity)"
   ]
  },
  {
   "cell_type": "code",
   "execution_count": 2,
   "id": "60a9f123-9aa9-475a-b791-a9015dbb41dd",
   "metadata": {},
   "outputs": [
    {
     "name": "stdout",
     "output_type": "stream",
     "text": [
      "[[1.         0.33609693]\n",
      " [0.33609693 1.        ]]\n"
     ]
    }
   ],
   "source": [
    "# Let's import text feature extraction TfidfVectorizer\n",
    "from sklearn.feature_extraction.text import TfidfVectorizer\n",
    "\n",
    "# Import Cosien Similarity metric\n",
    "from sklearn.metrics.pairwise import cosine_similarity\n",
    "\n",
    "\n",
    "docs=['I like dogs.', 'I hate dogs.']\n",
    "\n",
    "# Create TFidfVectorizer \n",
    "tfidf= TfidfVectorizer()\n",
    "\n",
    "# Fit and transform the documents \n",
    "tfidf_vector = tfidf.fit_transform(docs)\n",
    "\n",
    "# Compute cosine similarity\n",
    "cosine_sim=cosine_similarity(tfidf_vector, tfidf_vector)\n",
    "\n",
    "# Print the cosine similarity\n",
    "print(cosine_sim)"
   ]
  },
  {
   "cell_type": "code",
   "execution_count": null,
   "id": "a7c42c73-ba6b-4485-9ba1-dec7732370be",
   "metadata": {},
   "outputs": [],
   "source": []
  }
 ],
 "metadata": {
  "kernelspec": {
   "display_name": "Python 3 (ipykernel)",
   "language": "python",
   "name": "python3"
  },
  "language_info": {
   "codemirror_mode": {
    "name": "ipython",
    "version": 3
   },
   "file_extension": ".py",
   "mimetype": "text/x-python",
   "name": "python",
   "nbconvert_exporter": "python",
   "pygments_lexer": "ipython3",
   "version": "3.12.0"
  }
 },
 "nbformat": 4,
 "nbformat_minor": 5
}
