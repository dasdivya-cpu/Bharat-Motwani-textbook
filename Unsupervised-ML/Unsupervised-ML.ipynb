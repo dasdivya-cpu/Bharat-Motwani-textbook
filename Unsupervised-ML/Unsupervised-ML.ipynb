{
 "cells": [
  {
   "cell_type": "code",
   "execution_count": 4,
   "id": "f6e9c86a-d951-41b0-8bac-9d54f398f940",
   "metadata": {},
   "outputs": [],
   "source": [
    "import warnings\n",
    "warnings.filterwarnings('ignore')"
   ]
  },
  {
   "cell_type": "markdown",
   "id": "4ee2ab7d-6cb0-4b2a-88f2-aa5cba550ba9",
   "metadata": {},
   "source": [
    "# Dimensionality Reduction"
   ]
  },
  {
   "cell_type": "markdown",
   "id": "3161060c-96f9-479d-be98-da0f2366426a",
   "metadata": {},
   "source": [
    "The two common dimensionality reduction algorithms include principle component analysis \n",
    "and factor analysis. \n",
    "\n",
    "These algorithms takes input of a high dimensional representation of the data, which  \n",
    "consists of many features and produces a output  that summarizes the data by grouping  \n",
    "essential characteristics and results into fewer factors. \n"
   ]
  },
  {
   "cell_type": "markdown",
   "id": "52425704-a78c-4ec0-9ddf-cf0b7d4dc2d3",
   "metadata": {},
   "source": [
    "## Factor Analysis"
   ]
  },
  {
   "cell_type": "markdown",
   "id": "380f83c7-ebee-443e-bf69-806102888517",
   "metadata": {},
   "source": [
    "Factor Analysis (FA) is an exploratory data analysis method used to search important \n",
    "underlying factors or latent variables from a set of observed variables. It helps in \n",
    "data interpretations by reducing the number of variables. \n",
    "    \n",
    "It is widely utilized in nearly all the specialization where we need to reduce the number \n",
    "of existing features like market research, advertising, finance etc. \n",
    "    \n",
    "Factor analysis is a linear statistical model. It is used to explain the variance among \n",
    "the observed variable and reduce a set of the observed variable into the unobserved \n",
    "variable called factors. \n"
   ]
  },
  {
   "cell_type": "code",
   "execution_count": 5,
   "id": "e6f015bf-2eb9-4a20-8ccc-b21396d77d14",
   "metadata": {},
   "outputs": [
    {
     "name": "stdout",
     "output_type": "stream",
     "text": [
      "The description of the data set is: \n",
      " .. _diabetes_dataset:\n",
      "\n",
      "Diabetes dataset\n",
      "----------------\n",
      "\n",
      "Ten baseline variables, age, sex, body mass index, average blood\n",
      "pressure, and six blood serum measurements were obtained for each of n =\n",
      "442 diabetes patients, as well as the response of interest, a\n",
      "quantitative measure of disease progression one year after baseline.\n",
      "\n",
      "**Data Set Characteristics:**\n",
      "\n",
      ":Number of Instances: 442\n",
      "\n",
      ":Number of Attributes: First 10 columns are numeric predictive values\n",
      "\n",
      ":Target: Column 11 is a quantitative measure of disease progression one year after baseline\n",
      "\n",
      ":Attribute Information:\n",
      "    - age     age in years\n",
      "    - sex\n",
      "    - bmi     body mass index\n",
      "    - bp      average blood pressure\n",
      "    - s1      tc, total serum cholesterol\n",
      "    - s2      ldl, low-density lipoproteins\n",
      "    - s3      hdl, high-density lipoproteins\n",
      "    - s4      tch, total cholesterol / HDL\n",
      "    - s5      ltg, possibly log of serum triglycerides level\n",
      "    - s6      glu, blood sugar level\n",
      "\n",
      "Note: Each of these 10 feature variables have been mean centered and scaled by the standard deviation times the square root of `n_samples` (i.e. the sum of squares of each column totals 1).\n",
      "\n",
      "Source URL:\n",
      "https://www4.stat.ncsu.edu/~boos/var.select/diabetes.html\n",
      "\n",
      "For more information see:\n",
      "Bradley Efron, Trevor Hastie, Iain Johnstone and Robert Tibshirani (2004) \"Least Angle Regression,\" Annals of Statistics (with discussion), 407-499.\n",
      "(https://web.stanford.edu/~hastie/Papers/LARS/LeastAngle_2002.pdf)\n",
      "\n",
      "Dimension of independent variables: (442, 10)\n",
      "Chi Square value of Bartlett test:  3385.309\n",
      "p value of Bartlett test:  0.0\n",
      "KMO model:  0.535\n",
      "KMO values: \n",
      " [0.877 0.839 0.878 0.83  0.39  0.413 0.332 0.786 0.425 0.928]\n"
     ]
    }
   ],
   "source": [
    "#Importing the data set.\n",
    "from sklearn.datasets import load_diabetes \n",
    "diabetes=load_diabetes ()\n",
    "#Displaying the details of the data set.\n",
    "print (\"The description of the data set is: \\n\", diabetes.DESCR) \n",
    "x=diabetes.data\n",
    "y=diabetes.target\n",
    "print (\"Dimension of independent variables:\",x.shape)\n",
    "#Applying Bartlett's test of sphericity for determining adequacy. \n",
    "#Importing necessary libraries.\n",
    "from factor_analyzer import FactorAnalyzer\n",
    "from factor_analyzer.factor_analyzer import calculate_bartlett_sphericity \n",
    "chisquare,p_value=calculate_bartlett_sphericity(x)\n",
    "print (\"Chi Square value of Bartlett test: \", chisquare.round(3)) \n",
    "print (\"p value of Bartlett test: \",p_value.round(3))\n",
    "#Applying KMO test for determining adequacy.\n",
    "from factor_analyzer.factor_analyzer import calculate_kmo \n",
    "kmo_values, kmo_model=calculate_kmo(x)\n",
    "print (\"KMO model: \", kmo_model.round(3))\n",
    "print (\"KMO values: \\n\",kmo_values.round(3))\n"
   ]
  },
  {
   "cell_type": "markdown",
   "id": "e0c477de-a744-4fbd-980e-0b32b7d9dfd7",
   "metadata": {},
   "source": [
    "## Principal Component Analysis"
   ]
  },
  {
   "cell_type": "markdown",
   "id": "dd660440-694f-4559-a48d-290cb0893fc4",
   "metadata": {},
   "source": [
    "PCA is used to overcome features redundancy in a data set. These features are low \n",
    "dimensional in nature. These components aim to capture as much information as possible \n",
    "with high explained variance. \n",
    "    \n",
    "The first component has the highest variance followed by second, third and so on. The \n",
    "components must be uncorrelated. \n"
   ]
  },
  {
   "cell_type": "code",
   "execution_count": 8,
   "id": "27676694-7d93-412c-9d71-122511ff004e",
   "metadata": {},
   "outputs": [
    {
     "name": "stdout",
     "output_type": "stream",
     "text": [
      "Original shape of Friedman data set:  (100, 10)\n",
      "Reduced shape of Friedman data set:  (100, 4)\n",
      "Shape of Principal components: (4, 10)\n",
      "Details of Principal components: \n",
      " [[ 0.36   0.142 -0.148  0.186 -0.361  0.528  0.236 -0.285  0.488  0.103]\n",
      " [-0.447 -0.214  0.118  0.615 -0.047  0.17  -0.176  0.214  0.079  0.497]\n",
      " [ 0.211  0.214  0.429 -0.087 -0.421 -0.358 -0.117 -0.32  -0.214  0.5  ]\n",
      " [ 0.147  0.654 -0.339  0.431 -0.002 -0.025  0.073  0.219 -0.442 -0.028]]\n",
      "Component-wise explained variance: \n",
      " [0.153 0.137 0.129 0.104]\n"
     ]
    },
    {
     "data": {
      "text/plain": [
       "([<matplotlib.axis.XTick at 0x2539cb33dd0>,\n",
       "  <matplotlib.axis.XTick at 0x2539cb33da0>,\n",
       "  <matplotlib.axis.XTick at 0x2539cb33d70>,\n",
       "  <matplotlib.axis.XTick at 0x2539cbd69c0>,\n",
       "  <matplotlib.axis.XTick at 0x2539cbd7b00>,\n",
       "  <matplotlib.axis.XTick at 0x2539cbd7f20>,\n",
       "  <matplotlib.axis.XTick at 0x2539cbfc860>,\n",
       "  <matplotlib.axis.XTick at 0x2539cbfd220>,\n",
       "  <matplotlib.axis.XTick at 0x2539cbfdb20>,\n",
       "  <matplotlib.axis.XTick at 0x2539cbfe480>],\n",
       " [Text(0, 1, '0'),\n",
       "  Text(1, 1, '1'),\n",
       "  Text(2, 1, '2'),\n",
       "  Text(3, 1, '3'),\n",
       "  Text(4, 1, '4'),\n",
       "  Text(5, 1, '5'),\n",
       "  Text(6, 1, '6'),\n",
       "  Text(7, 1, '7'),\n",
       "  Text(8, 1, '8'),\n",
       "  Text(9, 1, '9')])"
      ]
     },
     "execution_count": 8,
     "metadata": {},
     "output_type": "execute_result"
    },
    {
     "data": {
      "image/png": "[encoded data removed]",
      "text/plain": [
       "<Figure size 1200x480 with 2 Axes>"
      ]
     },
     "metadata": {},
     "output_type": "display_data"
    }
   ],
   "source": [
    "#Principal component analysis.\n",
    "#Importing necessary libraries and loading data. \n",
    "from sklearn.decomposition import PCA\n",
    "from sklearn.datasets import make_friedman1\n",
    "x, y=make_friedman1()\n",
    "#Performing principle component analysis. \n",
    "pca = PCA(n_components=4)\n",
    "pca.fit(x)\n",
    "x_transformed=pca.transform(x)\n",
    "print (\"Original shape of Friedman data set: \",x.shape)\n",
    "print (\"Reduced shape of Friedman data set: \",x_transformed.shape)\n",
    "print(\"Shape of Principal components:\",pca.components_.shape)\n",
    "print (\"Details of Principal components: \\n\",pca.components_.round(3))\n",
    "print (\"Component-wise explained variance: \\n\", pca.explained_variance_ratio_.round(3))\n",
    "#Creating the chart for depicting components.\n",
    "import matplotlib.pyplot as plt\n",
    "plt.matshow(pca.components_)\n",
    "plt.yticks(range (4), \n",
    "           [\"First component\", \"Second Component\", \"Third Component\", \"Fourth component\"])\n",
    "plt.colorbar()\n",
    "plt.xticks(range (10))\n"
   ]
  },
  {
   "cell_type": "markdown",
   "id": "a1ef7678-c0b9-4e4e-beb5-727bb378d3f8",
   "metadata": {},
   "source": [
    "# Clustering"
   ]
  },
  {
   "cell_type": "markdown",
   "id": "63e351ad-01d6-49f9-93bd-eb9f2e30d38a",
   "metadata": {},
   "source": [
    "Clustering is the process of organizing objects into groups whose members are similar in \n",
    "some manner; it deals with finding a structure in a collection of unlabeled data. \n",
    "\n",
    "A cluster is a collection of objects that have similar characteristics between them and \n",
    "are dissimilar to the objects belonging to other clusters. \n",
    "\n",
    "Thus, data points inside a cluster are homogeneous and heterogeneous to other groups. \n",
    "\n",
    "The right number of clusters is an important issue because beyond which it becomes noise,\n",
    "below which you are not capturing any observation. \n",
    "    \n",
    "There are two forms of clustering: k-means and hierarchical clustering\n"
   ]
  },
  {
   "cell_type": "markdown",
   "id": "234c2ecf-3982-4fa3-a43f-dab027f34114",
   "metadata": {},
   "source": [
    "## K-Means Clustering "
   ]
  },
  {
   "cell_type": "markdown",
   "id": "cf179c2b-7a0f-4ad6-9a23-87d4b2aa884d",
   "metadata": {},
   "source": [
    "K-means picks k number of points for each cluster known as centroids. Each data point\n",
    "forms a cluster with the closest centroids i.e. k clusters. Finds the centroid of each \n",
    "cluster based on existing cluster members. Here we have new centroids. As we have new \n",
    "centroids, repeat step 2 and 3. Find the closest distance for each data point from new \n",
    "centroids and get associated with new k-clusters. Repeat this process until convergence \n",
    "occurs i.e. centroids does not change. \n"
   ]
  },
  {
   "cell_type": "code",
   "execution_count": 9,
   "id": "37c7a650-ad46-40ff-b109-3a159e80f7e7",
   "metadata": {},
   "outputs": [],
   "source": [
    "import seaborn as sns"
   ]
  },
  {
   "cell_type": "code",
   "execution_count": 25,
   "id": "578e79b4-335c-43bb-9b80-2375a9401337",
   "metadata": {},
   "outputs": [],
   "source": [
    "import pandas"
   ]
  },
  {
   "cell_type": "code",
   "execution_count": 10,
   "id": "11638491-21e1-42da-a4d8-88baa2236c35",
   "metadata": {},
   "outputs": [],
   "source": [
    "iris=sns.load_dataset('iris')"
   ]
  },
  {
   "cell_type": "code",
   "execution_count": 11,
   "id": "096417ef-7fa5-40c0-94eb-c98fe3a07368",
   "metadata": {},
   "outputs": [],
   "source": [
    "X=iris.drop('species',axis=1)"
   ]
  },
  {
   "cell_type": "code",
   "execution_count": 12,
   "id": "3de82829-a231-471e-b852-adc7f771865d",
   "metadata": {},
   "outputs": [],
   "source": [
    "y=iris['species']"
   ]
  },
  {
   "cell_type": "code",
   "execution_count": 29,
   "id": "a5d00f36-760d-4064-b3be-af8ba22cb698",
   "metadata": {},
   "outputs": [
    {
     "data": {
      "image/png": "[encoded data removed]",
      "text/plain": [
       "<Figure size 640x480 with 1 Axes>"
      ]
     },
     "metadata": {},
     "output_type": "display_data"
    },
    {
     "name": "stdout",
     "output_type": "stream",
     "text": [
      "The predicted clusters are:\n",
      " [1 1 1 1 1 1 1 1 1 1 1 1 1 1 1 1 1 1 1 1 1 1 1 1 1 1 1 1 1 1 1 1 1 1 1 1 1\n",
      " 1 1 1 1 1 1 1 1 1 1 1 1 1 0 2 0 2 2 2 2 2 2 2 2 2 2 2 2 2 2 2 2 2 2 2 2 2\n",
      " 2 2 2 0 2 2 2 2 2 2 2 2 2 2 2 2 2 2 2 2 2 2 2 2 2 2 0 2 0 0 0 0 2 0 0 0 0\n",
      " 0 0 2 2 0 0 0 0 2 0 2 0 2 0 0 2 2 0 0 0 0 0 2 0 0 0 0 2 0 0 0 2 0 0 0 2 0\n",
      " 0 2]\n",
      "The centers are: \n",
      " [[6.85384615 3.07692308 5.71538462 2.05384615]\n",
      " [5.006      3.428      1.462      0.246     ]\n",
      " [5.88360656 2.74098361 4.38852459 1.43442623]]\n",
      "Details of the predicted cluster are: \n",
      " Predicted\n",
      "2    61\n",
      "1    50\n",
      "0    39\n",
      "Name: count, dtype: int64\n",
      "The confusion matrix is: \n",
      " [[ 0  0  0  0  0  0]\n",
      " [ 0  0  0  0  0  0]\n",
      " [ 0  0  0  0  0  0]\n",
      " [ 0 50  0  0  0  0]\n",
      " [ 3  0 47  0  0  0]\n",
      " [36  0 14  0  0  0]]\n"
     ]
    }
   ],
   "source": [
    "from sklearn.cluster import KMeans\n",
    "list1=[]\n",
    "for i in range (1,11):\n",
    "    kmeans=KMeans (n_clusters=i, random_state=42) \n",
    "    kmeans.fit(X)\n",
    "    #inertia= WCSS (within cluster sum of squares) \n",
    "    list1.append(kmeans.inertia_)\n",
    "#Creating the scree plot.\n",
    "plt.plot(range (1,11), list1, marker='o')\n",
    "plt.title('Elbow Method')\n",
    "plt.xlabel('Number of clusters')\n",
    "plt.ylabel('wcss')\n",
    "plt.show()\n",
    "#Fitting K-means algorithm to data set with optimum number of clusters. \n",
    "kmeans=KMeans (n_clusters=3, random_state=10)\n",
    "y_kmeans=kmeans.fit_predict(X)\n",
    "print (\"The predicted clusters are:\\n\", y_kmeans)\n",
    "print (\"The centers are: \\n\", kmeans.cluster_centers_)\n",
    "#Determining number of observations in the cluster. import pandas\n",
    "data={'Original': y, 'Predicted': y_kmeans}\n",
    "kmeansdf = pandas.DataFrame (data, columns=['Original', 'Predicted'])\n",
    "print (\"Details of the predicted cluster are: \\n\", kmeansdf [\"Predicted\"].value_counts())\n",
    "#Creating names of the clusters.\n",
    "kmeansdf ['Original'].replace (to_replace=int (\"0\"), value=\"Setosa\", inplace=True) \n",
    "kmeansdf ['Original'].replace (to_replace=int(\"1\"), value=\"Versicolor\", inplace=True) \n",
    "kmeansdf ['Original'].replace (to_replace=int(\"2\"), value=\"Virginaca\", inplace=True) \n",
    "kmeansdf['Predicted'].replace (to_replace=int (\"0\"), value=\"Setosa\", inplace=True) \n",
    "kmeansdf ['Predicted'].replace (to_replace=int (\"1\"), value=\"Versicolor\", inplace=True) \n",
    "kmeansdf ['Predicted'].replace (to_replace=int(\"2\"), value=\"Virginaca\", inplace=True)\n",
    "#Creating confusion matrix of the model.\n",
    "from sklearn.metrics import confusion_matrix\n",
    "results=confusion_matrix (kmeansdf ['Original'], kmeansdf ['Predicted'])\n",
    "print (\"The confusion matrix is: \\n\", results)\n"
   ]
  },
  {
   "cell_type": "code",
   "execution_count": 32,
   "id": "0a5324b0-6f96-4b5f-82cc-f97fc91b81c3",
   "metadata": {},
   "outputs": [
    {
     "data": {
      "text/html": [
       "<div>\n",
       "<style scoped>\n",
       "    .dataframe tbody tr th:only-of-type {\n",
       "        vertical-align: middle;\n",
       "    }\n",
       "\n",
       "    .dataframe tbody tr th {\n",
       "        vertical-align: top;\n",
       "    }\n",
       "\n",
       "    .dataframe thead th {\n",
       "        text-align: right;\n",
       "    }\n",
       "</style>\n",
       "<table border=\"1\" class=\"dataframe\">\n",
       "  <thead>\n",
       "    <tr style=\"text-align: right;\">\n",
       "      <th></th>\n",
       "      <th>Original</th>\n",
       "      <th>Predicted</th>\n",
       "    </tr>\n",
       "  </thead>\n",
       "  <tbody>\n",
       "    <tr>\n",
       "      <th>0</th>\n",
       "      <td>setosa</td>\n",
       "      <td>Versicolor</td>\n",
       "    </tr>\n",
       "    <tr>\n",
       "      <th>1</th>\n",
       "      <td>setosa</td>\n",
       "      <td>Versicolor</td>\n",
       "    </tr>\n",
       "    <tr>\n",
       "      <th>2</th>\n",
       "      <td>setosa</td>\n",
       "      <td>Versicolor</td>\n",
       "    </tr>\n",
       "    <tr>\n",
       "      <th>3</th>\n",
       "      <td>setosa</td>\n",
       "      <td>Versicolor</td>\n",
       "    </tr>\n",
       "    <tr>\n",
       "      <th>4</th>\n",
       "      <td>setosa</td>\n",
       "      <td>Versicolor</td>\n",
       "    </tr>\n",
       "  </tbody>\n",
       "</table>\n",
       "</div>"
      ],
      "text/plain": [
       "  Original   Predicted\n",
       "0   setosa  Versicolor\n",
       "1   setosa  Versicolor\n",
       "2   setosa  Versicolor\n",
       "3   setosa  Versicolor\n",
       "4   setosa  Versicolor"
      ]
     },
     "execution_count": 32,
     "metadata": {},
     "output_type": "execute_result"
    }
   ],
   "source": [
    "kmeansdf.head()"
   ]
  },
  {
   "cell_type": "code",
   "execution_count": null,
   "id": "71062636-4be9-45cc-901a-57bc647050e8",
   "metadata": {},
   "outputs": [],
   "source": []
  }
 ],
 "metadata": {
  "kernelspec": {
   "display_name": "Python 3 (ipykernel)",
   "language": "python",
   "name": "python3"
  },
  "language_info": {
   "codemirror_mode": {
    "name": "ipython",
    "version": 3
   },
   "file_extension": ".py",
   "mimetype": "text/x-python",
   "name": "python",
   "nbconvert_exporter": "python",
   "pygments_lexer": "ipython3",
   "version": "3.12.0"
  }
 },
 "nbformat": 4,
 "nbformat_minor": 5
}
