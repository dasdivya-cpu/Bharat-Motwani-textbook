{
 "cells": [
  {
   "cell_type": "markdown",
   "id": "28130d7e-4ee7-4963-a7eb-f2c62083dcfb",
   "metadata": {},
   "source": [
    "# Single Dimensional Array"
   ]
  },
  {
   "cell_type": "markdown",
   "id": "7131b462-f369-4068-9b63-9d188d9ae1ca",
   "metadata": {},
   "source": [
    "A single dimensional array is an array of elements of similar data type starting from index 0 and ending till n+1. \n",
    "\n",
    "An integer array is created using “int” argument; string array is created using “str” argument; array of float elements is created using “float” argument.\n",
    "\n",
    "An array can also be created from an existing array using view() and copy() command.\n"
   ]
  },
  {
   "cell_type": "code",
   "execution_count": 3,
   "id": "94182f1e-609a-44f2-94b6-624a5354b641",
   "metadata": {},
   "outputs": [
    {
     "name": "stdout",
     "output_type": "stream",
     "text": [
      "The array of integers is: \n",
      " [11 22 33 44 55 66]\n",
      "The array of characters is: \n",
      " ['a' 'b' 'c' 'd' 'e' 'f']\n",
      "The array of strings is: \n",
      " ['JAVA' 'PYTHON' 'C++' 'C']\n",
      "The array of decimal numbers is: \n",
      " [ 6.3 24.5 16.7 28.9 85.8]\n",
      "Using view function to create a new array:\n",
      " ['JAVA' 'PYTHON' 'C++' 'C']\n",
      "Using copy function to create a new array: \n",
      " [ 6.3 24.5 16.7 28.9 85.8]\n"
     ]
    }
   ],
   "source": [
    "#Program to create array from numpy library.\n",
    "import numpy\n",
    "#Creating an array of integers.\n",
    "myarray1=numpy.array([11,22,33,44, 55, 66], int) \n",
    "print (\"The array of integers is: \\n\",myarray1)\n",
    "#Creating an array of characters.\n",
    "myarray2=numpy.array(['a', 'b', 'c', 'd', 'e', 'f']) \n",
    "print (\"The array of characters is: \\n\",myarray2)\n",
    "#Creating an array of strings.\n",
    "myarray3=numpy.array(['JAVA', 'PYTHON', 'C++', 'C'], dtype=str) \n",
    "print (\"The array of strings is: \\n\", myarray3)\n",
    "#Creating a float array.\n",
    "myarray4=numpy.array([6.3,24.5,16.7,28.9,85.8], float)\n",
    "print (\"The array of decimal numbers is: \\n\", myarray4)\n",
    "#Using view() function to create a new array from an existing array \n",
    "myarray5=myarray3.view()\n",
    "print(\"Using view function to create a new array:\\n\",myarray5)\n",
    "#Using copy() function to create a new array from an existing array \n",
    "myarray6=myarray4.copy()\n",
    "print (\"Using copy function to create a new array: \\n\",myarray6)"
   ]
  },
  {
   "cell_type": "markdown",
   "id": "a26ea074-b1da-4401-a538-692741591af9",
   "metadata": {},
   "source": [
    "numpy array has an access to many other mathematical, trigonometrical, statistical, logarithmic and exponential functions. \n"
   ]
  },
  {
   "cell_type": "code",
   "execution_count": 5,
   "id": "847787b3-65d4-4cc4-a129-4a364f77246d",
   "metadata": {},
   "outputs": [
    {
     "name": "stdout",
     "output_type": "stream",
     "text": [
      "The array of integers using arange() function is: \n",
      " [ 0  1  2  3  4  5  6  7  8  9 10 11 12 13]\n",
      "The array of decimal numbers using arange() function is: \n",
      " [14. 15. 16. 17. 18.]\n",
      "The array of integers using linspace () function is: \n",
      " [12. 15. 18. 21. 24.]\n",
      "The array of decimal numbers using linspace () function is:\n",
      " [1.   1.75 2.5  3.25 4.  ]\n",
      "An array using Zeros: \n",
      " [0. 0. 0. 0.]\n",
      "An array using Ones: \n",
      " [1. 1. 1. 1. 1.]\n"
     ]
    }
   ],
   "source": [
    "#Creating an integer array using arange() function.\n",
    "myarray7=numpy.arange(14)\n",
    "print (\"The array of integers using arange() function is: \\n\",myarray7)\n",
    "#Creating a float array using arange() function.\n",
    "myarray8= numpy.arange(14,19, dtype = 'float')\n",
    "print (\"The array of decimal numbers using arange() function is: \\n\", myarray8)\n",
    "# Creating an integer array using linspace () for equal spacing.\n",
    "myarray9=numpy.linspace (12, 24, 5)\n",
    "print (\"The array of integers using linspace () function is: \\n\",myarray9)\n",
    "#Creating float array using linspace () for equal spacing.\n",
    "myarray10=numpy.linspace (1., 4., 5)\n",
    "print (\"The array of decimal numbers using linspace () function is:\\n\", myarray10)\n",
    "#Creating array using Zeros () function. \n",
    "myarray11=numpy.zeros((4))\n",
    "print (\"An array using Zeros: \\n\", myarray11)\n",
    "#Creating array using Ones () function. \n",
    "myarray12=numpy.ones ((5))\n",
    "print (\"An array using Ones: \\n\",myarray12)\n"
   ]
  },
  {
   "cell_type": "code",
   "execution_count": 7,
   "id": "f88f9d90-f795-4299-a7e3-14d5a30d3b28",
   "metadata": {},
   "outputs": [
    {
     "name": "stdout",
     "output_type": "stream",
     "text": [
      "Original array is: \n",
      " [13 24 22 13 11 28 16 24 18]\n",
      "Modified array is: \n",
      " [13 24 22 45 11 28 16 24 18]\n",
      "Size of the array is:  9\n",
      "Data type of the array is:  int64\n",
      "Mean of all array elements is:  22.333333333333332\n",
      "Median of all array elements is:  22.0\n",
      "Minimum element of the array is:  11\n",
      "Maximum element of the array is:  45\n",
      "Sum of all array elements is:  201\n",
      "Product of all array elements is:  657573396480\n",
      "Co-variance of all array elements is:  103.25\n",
      "Variance of all array elements is:  91.77777777777777\n",
      "standard deviation of array elements is:  9.580071908799942\n",
      "The sorted array is: \n",
      " [11 13 16 18 22 24 24 28 45]\n",
      "Power raised to element (3) of array: \n",
      " [ 2197 13824 10648 91125  1331 21952  4096 13824  5832]\n",
      "Square root of the array elements is: \n",
      " [3.60555128 4.89897949 4.69041576 6.70820393 3.31662479 5.29150262\n",
      " 4.         4.89897949 4.24264069]\n",
      "Absolute value of the array elements is: \n",
      " [13 24 22 45 11 28 16 24 18]\n",
      "Sin value of the array elements is: \n",
      " [ 0.42016704 -0.90557836 -0.00885131  0.85090352 -0.99999021  0.27090579\n",
      " -0.28790332 -0.90557836 -0.75098725]\n",
      "Cosine value of the array elements is: \n",
      " [ 0.90744678  0.42417901 -0.99996083  0.52532199  0.0044257  -0.96260587\n",
      " -0.95765948  0.42417901  0.66031671]\n",
      "Tangent value of the array elements is: \n",
      " [ 4.63021133e-01 -2.13489670e+00  8.85165604e-03  1.61977519e+00\n",
      " -2.25950846e+02 -2.81429605e-01  3.00632242e-01 -2.13489670e+00\n",
      " -1.13731371e+00]\n",
      "Log of all elements with 'e' base is: \n",
      " [2.56494936 3.17805383 3.09104245 3.80666249 2.39789527 3.33220451\n",
      " 2.77258872 3.17805383 2.89037176]\n",
      "Log of all elements with base 10 is: \n",
      " [1.11394335 1.38021124 1.34242268 1.65321251 1.04139269 1.44715803\n",
      " 1.20411998 1.38021124 1.25527251]\n",
      "Exponential of the array elements is: \n",
      " [4.42413392e+05 2.64891221e+10 3.58491285e+09 3.49342711e+19\n",
      " 5.98741417e+04 1.44625706e+12 8.88611052e+06 2.64891221e+10\n",
      " 6.56599691e+07]\n"
     ]
    }
   ],
   "source": [
    "myarray13=numpy.array([13, 24, 22,13,11,28,16,24,18], int) \n",
    "print (\"Original array is: \\n\",myarray13)\n",
    "#Modifying an element at a specified index. \n",
    "myarray13 [3]=45\n",
    "print (\"Modified array is: \\n\", myarray13)\n",
    "#Determine characteristics of the array. #The size returns the size of the array.\n",
    "print (\"Size of the array is: \", myarray13.size)\n",
    "#The dtype returns the datatype of the elements of the array. \n",
    "print (\"Data type of the array is: \",myarray13.dtype)\n",
    "#Functions returning one single numeric output.\n",
    "#The mean () function returns the mean of all array elements. \n",
    "print (\"Mean of all array elements is: \", numpy.mean (myarray13)) \n",
    "#The median () function returns the median of all array elements. \n",
    "print (\"Median of all array elements is: \", numpy.median (myarray13)) \n",
    "#The min() function returns the minimum element of the array. \n",
    "print (\"Minimum element of the array is: \", numpy.min (myarray13)) \n",
    "#The max() function returns the maximum element of the array. \n",
    "print (\"Maximum element of the array is: \", numpy.max (myarray13)) \n",
    "#The sum() function returns the sum of all array elements. \n",
    "print (\"Sum of all array elements is: \", numpy.sum (myarray13)) \n",
    "#The prod() function returns the product of all array elements. \n",
    "print(\"Product of all array elements is: \", numpy.prod (myarray13)) \n",
    "#The cov() function returns the covariance of all array elements. \n",
    "print (\"Co-variance of all array elements is: \", numpy.cov (myarray13)) \n",
    "#The var() function returns the variance of all array elements. \n",
    "print (\"Variance of all array elements is: \", numpy.var (myarray13)) \n",
    "#The std() function returns standard deviation of all array elements. \n",
    "print (\"standard deviation of array elements is: \", numpy.std (myarray13)) \n",
    "#Mathematical functions return an array output (all elements). \n",
    "#The sort() function returns the elements in a sorted order. \n",
    "print (\"The sorted array is: \\n\", numpy.sort (myarray13))\n",
    "#The power() function returns all elements raised to power of a number. \n",
    "print (\"Power raised to element (3) of array: \\n\", numpy.power (myarray13,3)) \n",
    "#The sqrt() function returns the square root of all elements. \n",
    "print (\"Square root of the array elements is: \\n\", numpy.sqrt (myarray13)) \n",
    "#The abs() function returns the absolute value of all the elements. \n",
    "print (\"Absolute value of the array elements is: \\n\", numpy.abs (myarray13)) \n",
    "#Trignometric functions return an array output (all elements). \n",
    "#The sin() function returns the sine value of all the elements. \n",
    "print (\"Sin value of the array elements is: \\n\", numpy.sin (myarray13)) \n",
    "#The cos() function returns the cosine value of all the elements. \n",
    "print (\"Cosine value of the array elements is: \\n\", numpy.cos (myarray13)) \n",
    "#The tan() function returns the tangent value of all the elements. \n",
    "print (\"Tangent value of the array elements is: \\n\", numpy.tan (myarray13)) \n",
    "#Logarithmic/exponential functions return an array output. \n",
    "#The log() function returns log with exponential base of all elements. \n",
    "print (\"Log of all elements with 'e' base is: \\n\", numpy.log (myarray13)) \n",
    "#The log10() function returns the log with base 10 of all elements. \n",
    "print (\"Log of all elements with base 10 is: \\n\", numpy. log10 (myarray13)) \n",
    "#The exp() function returns the exponential value of all the elements. \n",
    "print (\"Exponential of the array elements is: \\n\", numpy.exp (myarray13))\n"
   ]
  },
  {
   "cell_type": "markdown",
   "id": "646ee2f4-0d91-42a7-b0f4-f61006ad7a96",
   "metadata": {},
   "source": [
    "It is possible to use basic mathematical operators and relational operators on 1-D array \n"
   ]
  },
  {
   "cell_type": "code",
   "execution_count": 9,
   "id": "ca1bf7f3-c44b-4481-a76e-4e74ddb15308",
   "metadata": {},
   "outputs": [
    {
     "name": "stdout",
     "output_type": "stream",
     "text": [
      "Original array is: \n",
      " [25 26 27 28 29 30 31 32 33]\n",
      "Adding an element to array elements is: \n",
      " [70 71 72 73 74 75 76 77 78]\n",
      "Subtracting an element to array elements is: \n",
      " [15 16 17 18 19 20 21 22 23]\n",
      "Multiplying an element to array elements is: \n",
      " [75 78 81 84 87 90 93 96 99]\n",
      "Dividing an element from array elements is: \n",
      " [6.25 6.5  6.75 7.   7.25 7.5  7.75 8.   8.25]\n",
      "Using modulus operator for the array elements: \n",
      " [1 2 3 0 1 2 3 0 1]\n",
      "Using integer division for the array elements: \n",
      " [6 6 6 7 7 7 7 8 8]\n"
     ]
    }
   ],
   "source": [
    "#Mathematical operations on one-dimensional array.\n",
    "myarray14= numpy.arange(25,34)\n",
    "print (\"Original array is: \\n\",myarray14)\n",
    "print (\"Adding an element to array elements is: \\n\",myarray14+45) \n",
    "print (\"Subtracting an element to array elements is: \\n\",myarray14-10) \n",
    "print (\"Multiplying an element to array elements is: \\n\",myarray14*3) \n",
    "print (\"Dividing an element from array elements is: \\n\", myarray14/4) \n",
    "print (\"Using modulus operator for the array elements: \\n\", myarray14%4) \n",
    "print (\"Using integer division for the array elements: \\n\", myarray14//4)\n"
   ]
  },
  {
   "cell_type": "code",
   "execution_count": 11,
   "id": "96c87b75-1b11-45a2-bd2c-2667ffb98a4d",
   "metadata": {},
   "outputs": [
    {
     "name": "stdout",
     "output_type": "stream",
     "text": [
      "Addition and subtraction on multiple arrays:\n",
      " [36 36 36]\n",
      "Multiplication and division on multiple arrays: \n",
      " [ 62.85714286 137.5        220.        ]\n",
      "Using modulus operator on two arrays:\n",
      " [5 2 6]\n",
      "Using integer division on two arrays: \n",
      " [5 6 6]\n"
     ]
    }
   ],
   "source": [
    "import numpy as np\n",
    "#Creating three integer arrays. \n",
    "myarray15=np.array([11,22,33], int) \n",
    "myarray16=np.array([40, 50, 60],int) \n",
    "myarray17=np.array([7,8,9], int)\n",
    "#Performing addition and subtraction on all elements of an array. \n",
    "myarray18=myarray17+myarray16-myarray15\n",
    "print (\"Addition and subtraction on multiple arrays:\\n\",myarray18) \n",
    "#Performing multiplication and division on all elements of an array. \n",
    "myarray19=(myarray15*myarray16)/myarray17\n",
    "print (\"Multiplication and division on multiple arrays: \\n\",myarray19)\n",
    "#Using modulus operator (%) on all elements of the array. \n",
    "myarray20=myarray16%myarray17\n",
    "print (\"Using modulus operator on two arrays:\\n\",myarray20) \n",
    "#Using integer division (//) on all elements of the array. \n",
    "myarray21=myarray16//myarray17\n",
    "print (\"Using integer division on two arrays: \\n\",myarray21)\n"
   ]
  },
  {
   "cell_type": "code",
   "execution_count": 15,
   "id": "517b9074-fea2-4126-9adb-274ac941413b",
   "metadata": {},
   "outputs": [
    {
     "name": "stdout",
     "output_type": "stream",
     "text": [
      "Are elements of first array>= corresponding elements of second array?\n",
      "\n",
      "[False False False  True  True False False False]\n",
      "Are elements of first array<= corresponding elements of second array?\n",
      " [ True  True  True False False  True  True  True]\n",
      "Are elements of first array = corresponding elements of second array?\n",
      " [False False False False False False False False]\n",
      "Are elements of first array != corresponding elements of second array?\n",
      " [ True  True  True  True  True  True  True  True]\n"
     ]
    }
   ],
   "source": [
    "myarray22=np.array([215,323,520,636,717,281,162,411], int) \n",
    "myarray23=np.array([311,453,711,362,230,453,672, 891], int)\n",
    "#Using greater than or equal to (>=) relational operator.\n",
    "print (\"Are elements of first array>= corresponding elements of second array?\\n\")\n",
    "print (myarray22>=myarray23)\n",
    "#Using less than or equal to (<=) relational operator.\n",
    "print (\"Are elements of first array<= corresponding elements of second array?\\n\", \n",
    "       myarray22<=myarray23)\n",
    "#Using equals (=) relational operator.\n",
    "print (\"Are elements of first array = corresponding elements of second array?\\n\",\n",
    "       myarray22==myarray23)\n",
    "#Using not equal to (!=) relational operator.\n",
    "print (\"Are elements of first array != corresponding elements of second array?\\n\", \n",
    "       myarray22!=myarray23)\n"
   ]
  },
  {
   "cell_type": "markdown",
   "id": "b92d53cb-23b7-4951-ba93-d85e14423dc8",
   "metadata": {},
   "source": [
    "# Multidimensional Arrays"
   ]
  },
  {
   "cell_type": "markdown",
   "id": "659d0491-170c-4353-890e-2c04f8dc47df",
   "metadata": {},
   "source": [
    "## Creating a Multidimensional Array "
   ]
  },
  {
   "cell_type": "markdown",
   "id": "3716d253-aa0d-4981-a531-e026a7f9ea8d",
   "metadata": {},
   "source": [
    "The simplest form of multidimensional array is the two-dimensional array. \n",
    "\n",
    "A two dimensional array has rows and columns. \n",
    "\n",
    "It can be also considered as a list of one-dimensional arrays. \n",
    "\n",
    "A two-dimensional array of size [m][n] can be considered as a tabular form having “m” number of rows and “n” number of columns.\n",
    "    \n",
    "Thus, a matrix is considered to be a specialized two-dimensional array.\n"
   ]
  },
  {
   "cell_type": "markdown",
   "id": "83ce4923-a8ed-47da-8d41-a0053fcd9be8",
   "metadata": {},
   "source": [
    "A multidimensional array can be created using array(), reshape() , matrix(), zeros() \n",
    "or ones() function. \n",
    "\n",
    "The array() function uses square bracket outside all elements to denote one \n",
    "row of the array.  \n",
    "\n",
    "A matrix() function uses semi colon (;) to separate a row from other.\n",
    "\n",
    "The reshape() function converts the single dimensional array into multidimensional array \n",
    "on the basis of specified argument for rows and columns. \n",
    "\n",
    "The zeros() and ones() function creates multidimensional array of specified dimensions \n",
    "and fills them with  zeros and ones respectively.\n"
   ]
  },
  {
   "cell_type": "code",
   "execution_count": 18,
   "id": "25e84b09-1825-45b4-bbb1-151869f3080e",
   "metadata": {},
   "outputs": [
    {
     "name": "stdout",
     "output_type": "stream",
     "text": [
      "Multidimensional array using array function is: \n",
      " [[  100   200   300   400]\n",
      " [  600   700   800 90011]]\n",
      "Multidimensional array using matrix function is: \n",
      " [[11 22]\n",
      " [33 44]\n",
      " [55 66]]\n",
      "Multidimensional array using reshape function is: \n",
      " [[10 20]\n",
      " [30 40]\n",
      " [50 60]]\n",
      "Multidimensional array using zeros function is: \n",
      " [[0. 0.]\n",
      " [0. 0.]\n",
      " [0. 0.]\n",
      " [0. 0.]]\n",
      "Multidimensional array using ones function is: \n",
      " [[1. 1. 1.]\n",
      " [1. 1. 1.]]\n"
     ]
    }
   ],
   "source": [
    "#Program to show creation of multidimensional array. \n",
    "import numpy as np\n",
    "#Creating a two-dimensional array using array() function. \n",
    "mymultarray1=np.array([[100,200, 300, 400], [600,700, 800, 90011]])\n",
    "print (\"Multidimensional array using array function is: \\n\",mymultarray1)\n",
    "#Creating a two-dimensional array using matrix() function. \n",
    "mymultarray2=np.matrix ('11 22; 33 44; 55 66')\n",
    "print (\"Multidimensional array using matrix function is: \\n\", mymultarray2)\n",
    "#Creating a two-dimensional array using reshape() function.\n",
    "newarray= np.array([10, 20, 30, 40, 50, 60]) \n",
    "mymultarray3=np.reshape(newarray, (3,2))\n",
    "print (\"Multidimensional array using reshape function is: \\n\",mymultarray3)\n",
    "#Creating array using zeros () function. \n",
    "mymultarray4=np.zeros((4,2))\n",
    "print (\"Multidimensional array using zeros function is: \\n\", mymultarray4)\n",
    "#Creating array using Ones () function. \n",
    "mymultarray5=np.ones ( (2,3))\n",
    "print (\"Multidimensional array using ones function is: \\n\",mymultarray5)\n"
   ]
  },
  {
   "cell_type": "markdown",
   "id": "14250e27-f792-446b-ae28-5b1bade09754",
   "metadata": {},
   "source": [
    "# Accessing Elements in Multidimensional Array"
   ]
  },
  {
   "cell_type": "markdown",
   "id": "dcf9c7b9-929e-4e23-bdf6-0b99b7424065",
   "metadata": {},
   "source": [
    "An element in a two-dimensional array is accessed by using the subscripts, \n",
    "i.e., row index and column index of the array. \n",
    "\n",
    "Every element in the array is identified by an element name of the form myarray[x][y], \n",
    "where ‘myarray’ is the name of the array, and \n",
    "'x' and ‘y’ are the subscripts corresponding to index of row and column that uniquely \n",
    "identify each element in ‘myarray’. \n"
   ]
  },
  {
   "cell_type": "code",
   "execution_count": 20,
   "id": "e88c7a65-265e-4457-8ec4-f4fc67cc2f7e",
   "metadata": {},
   "outputs": [
    {
     "name": "stdout",
     "output_type": "stream",
     "text": [
      "The array is: \n",
      " [[100 150]\n",
      " [200 250]\n",
      " [300 350]]\n",
      "Element of first row and second column is:  150\n",
      "Element of second row and first column is: 200\n",
      "Element of second row and second column is:  250\n",
      "Element of third row and first column is:  300\n",
      "Element of third row and second column is: 350\n"
     ]
    }
   ],
   "source": [
    "#Program to show indexing in multidimensional arrays. \n",
    "import numpy as np\n",
    "mymultarray6=np.reshape(range (100, 400, 50), (3,2)) \n",
    "print (\"The array is: \\n\",mymultarray6)\n",
    "#Performing indexing.\n",
    "print (\"Element of first row and second column is: \", mymultarray6[0][1]) \n",
    "print (\"Element of second row and first column is:\", mymultarray6[1][0]) \n",
    "print (\"Element of second row and second column is: \",mymultarray6[1][1]) \n",
    "print (\"Element of third row and first column is: \", mymultarray6[2][0]) \n",
    "print (\"Element of third row and second column is:\", mymultarray6[2][1])\n"
   ]
  },
  {
   "cell_type": "code",
   "execution_count": 21,
   "id": "5581add3-3946-4c3d-8118-4cd2f336bfe5",
   "metadata": {},
   "outputs": [
    {
     "name": "stdout",
     "output_type": "stream",
     "text": [
      "The multidimensional array is: \n",
      " [[100 120 140 160 180]\n",
      " [200 220 240 260 280]\n",
      " [300 320 340 360 380]\n",
      " [400 420 440 460 480]]\n",
      "First two rows are: \n",
      " [[100 120 140 160 180]\n",
      " [200 220 240 260 280]]\n",
      "Third row is: \n",
      " [300 320 340 360 380]\n",
      "Elements in first and second row and column are:\n",
      " [[100 120]\n",
      " [200 220]]\n",
      "Elements in second row and second to fourth column are:\n",
      " [220 240 260]\n"
     ]
    }
   ],
   "source": [
    "mymultarray7=np.reshape(range (100, 500, 20), (4,5))\n",
    "print(\"The multidimensional array is: \\n\", mymultarray7[:, :])\n",
    "#Slicing by specifying only the row indexes.\n",
    "print (\"First two rows are: \\n\", mymultarray7 [0:2,])\n",
    "print(\"Third row is: \\n\", mymultarray7 [2,])\n",
    "#Slicing by specifying both the row and column indexes.\n",
    "print (\"Elements in first and second row and column are:\\n\",mymultarray7 [0:2, 0:2])\n",
    "print (\"Elements in second row and second to fourth column are:\\n\", mymultarray7 [1,1:4])\n"
   ]
  },
  {
   "cell_type": "markdown",
   "id": "ddabb5a4-e480-45af-bab2-a6654b8313cd",
   "metadata": {},
   "source": [
    "# Functions on Multidimensional Array"
   ]
  },
  {
   "cell_type": "code",
   "execution_count": 23,
   "id": "5acde196-951b-4417-9391-2b44dfb863ad",
   "metadata": {},
   "outputs": [
    {
     "name": "stdout",
     "output_type": "stream",
     "text": [
      "The original matrix is: \n",
      " [[  10   60   40]\n",
      " [  40   50   30]\n",
      " [  50   60   40]\n",
      " [  40   50 2011]]\n",
      "Transposed matrix is: \n",
      " [[  10   40   50   40]\n",
      " [  60   50   60   50]\n",
      " [  40   30   40 2011]]\n",
      "Dimension of the array is:  2\n",
      "Shape of the array is: (4, 3)\n",
      "Flattened matrix is: \n",
      " [  10   60   40   40   50   30   50   60   40   40   50 2011]\n",
      "Sorted matrix on row basis (default): \n",
      " [[  10   40   60]\n",
      " [  30   40   50]\n",
      " [  40   50   60]\n",
      " [  40   50 2011]]\n",
      "Sorted matrix on columnar basis: \n",
      " [[  10   50   30]\n",
      " [  40   50   40]\n",
      " [  40   60   40]\n",
      " [  50   60 2011]]\n",
      "Diagonal elements are:\n",
      " [10 50 40]\n"
     ]
    }
   ],
   "source": [
    "#Program for functions on multidimensional arrays. import numpy as np\n",
    "mymultarray8=np.array([[10, 60, 40], [40,50,30], [50, 60, 40], [40, 50, 2011]])\n",
    "#Displaying the matrix.\n",
    "print (\"The original matrix is: \\n\",mymultarray8)\n",
    "#The transpose() function returns the transpose of a matrix. \n",
    "print (\"Transposed matrix is: \\n\",mymultarray8.transpose())\n",
    "#The ndim determines dimension of the array.\n",
    "print (\"Dimension of the array is: \", mymultarray8.ndim)\n",
    "#The shape determines shape of the array.\n",
    "print (\"Shape of the array is:\", mymultarray8.shape)\n",
    "#The flatten () flattens matrix and converts into one-dimensional. \n",
    "print(\"Flattened matrix is: \\n\",mymultarray8.flatten())\n",
    "#The sort() function with axis=1 (default) sorts the matrix on row basis. \n",
    "print (\"Sorted matrix on row basis (default): \\n\", np.sort(mymultarray8))\n",
    "#The sort() function with axis=0 sorts the matrix on column basis. \n",
    "print (\"Sorted matrix on columnar basis: \\n\", np.sort(mymultarray8, axis=0))\n",
    "#The diagonal () function helps to determine the diagonal elements. \n",
    "print (\"Diagonal elements are:\\n\", np.diagonal(mymultarray8))\n"
   ]
  },
  {
   "cell_type": "code",
   "execution_count": null,
   "id": "0ffbba9a-00ea-41bb-9c90-059584acc6ea",
   "metadata": {},
   "outputs": [],
   "source": []
  }
 ],
 "metadata": {
  "kernelspec": {
   "display_name": "Python 3 (ipykernel)",
   "language": "python",
   "name": "python3"
  },
  "language_info": {
   "codemirror_mode": {
    "name": "ipython",
    "version": 3
   },
   "file_extension": ".py",
   "mimetype": "text/x-python",
   "name": "python",
   "nbconvert_exporter": "python",
   "pygments_lexer": "ipython3",
   "version": "3.12.0"
  }
 },
 "nbformat": 4,
 "nbformat_minor": 5
}
