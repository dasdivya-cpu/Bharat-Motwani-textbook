{
 "cells": [
  {
   "cell_type": "markdown",
   "id": "e7ce2e24-a010-4ddf-8635-61ba628bc32e",
   "metadata": {},
   "source": [
    "# Basics of Data Frame"
   ]
  },
  {
   "cell_type": "markdown",
   "id": "0b0240ae-6a73-46b3-8fbe-8c30da88b4ff",
   "metadata": {},
   "source": [
    "The Pandas library is specially used for handling data of different dimensions. \n",
    "    \n",
    "Series is a one-dimensional labelled data and “data frame” is a two-dimensional labelled \n",
    "data  holding any data type. \n",
    "    \n",
    "A series can be created using the function Series() from pandas library.\n",
    "\n",
    "Data Frame can be thought as a table in RDBMS or a spread sheet.  \n",
    "A data frame is created using DataFrame() function. \n"
   ]
  },
  {
   "cell_type": "code",
   "execution_count": 1,
   "id": "65c65bb8-45df-4617-aa64-14f7d26cb06b",
   "metadata": {},
   "outputs": [
    {
     "name": "stdout",
     "output_type": "stream",
     "text": [
      "Pen      100\n",
      "Shirt    200\n",
      "Book     300\n",
      "Mouse    400\n",
      "dtype: int64\n"
     ]
    }
   ],
   "source": [
    "#Program for creating series using series () function of Pandas library. \n",
    "#Importing Pandas library.\n",
    "import pandas as pd\n",
    "#Creating a list of prices. \n",
    "pricelist=[100, 200, 300, 400]\n",
    "#Creating a series.\n",
    "productseries=pd.Series(pricelist, index=['Pen', 'Shirt', 'Book', 'Mouse'])\n",
    "#Displaying the series.\n",
    "print(productseries)"
   ]
  },
  {
   "cell_type": "code",
   "execution_count": 2,
   "id": "b09955d0-aa71-40e7-8805-14b88e92bf29",
   "metadata": {},
   "outputs": [
    {
     "name": "stdout",
     "output_type": "stream",
     "text": [
      "Data frame of product is: \n",
      "    Pen  Shirt  Book  Mouse\n",
      "0  100    200   300    400\n",
      "1    4      2     5      6\n",
      "Dimension of the product data frame is: (2, 4)\n",
      "Size of the product data frame is: 8\n",
      "Name of the columns are: \n",
      " Index(['Pen', 'Shirt', 'Book', 'Mouse'], dtype='object')\n"
     ]
    }
   ],
   "source": [
    "# Creating my first data frame.\n",
    "productdf = pd.DataFrame ([[100,200, 300, 400], [4,2,5,6]], \n",
    "                          columns=['Pen', 'Shirt', 'Book', 'Mouse'])\n",
    "#Displaying the data frame.\n",
    "print (\"Data frame of product is: \\n\",productdf)\n",
    "#Displaying the dimensions of the data frame using shape. \n",
    "print (\"Dimension of the product data frame is:\",productdf.shape)\n",
    "#Displaying the size of the data frame using size. \n",
    "print(\"Size of the product data frame is:\",productdf.size)\n",
    "#Displaying the name of the columns using keys() function. \n",
    "print (\"Name of the columns are: \\n\",productdf.keys())\n"
   ]
  },
  {
   "cell_type": "markdown",
   "id": "a7220579-c308-4e80-8dd6-a6c64a7a4880",
   "metadata": {},
   "source": [
    "# Adding Rows and Columns to the Data Frame"
   ]
  },
  {
   "cell_type": "markdown",
   "id": "db8a1fb9-8980-4d6d-90e6-5dce237b44eb",
   "metadata": {},
   "source": [
    "We can add rows to an existing data frame from a new data frame by adding a new column \n",
    "to the data frame by writing the name of the column in square brackets along with the \n",
    "name of the data frame and assigning a list of items to it. \n"
   ]
  },
  {
   "cell_type": "code",
   "execution_count": 10,
   "id": "c7d2dc26-ae08-4ba2-963c-3c3a7d9c52f8",
   "metadata": {},
   "outputs": [
    {
     "name": "stdout",
     "output_type": "stream",
     "text": [
      "Second data frame is: \n",
      "    Pen  Shirt  Book  Mouse\n",
      "0   15     16    17     18\n",
      "1    5      6     7      8\n",
      "Dimension of the second data frame is:  (2, 4)\n",
      "Dimension of the new data frame is:  (4, 4)\n",
      "New data frame after adding two columns is: \n",
      "    Pen  Shirt  Book  Mouse  Mobile  Laptop\n",
      "0  100    200   300    400   15000   35000\n",
      "1    4      2     5      6       2       3\n",
      "0   15     16    17     18      30      10\n",
      "1    5      6     7      8      40      15\n",
      "Dimension of the new data frame is: (4, 6)\n",
      "Size of the new data frame is: 24\n"
     ]
    }
   ],
   "source": [
    "#Program for adding rows and columns to the data frame.\n",
    "# Creating a new data frame.\n",
    "productdf2 = pd.DataFrame ([[15,16,17,18], [5,6,7,8]], \n",
    "                           columns=['Pen', 'Shirt', 'Book', 'Mouse']) \n",
    "print (\"Second data frame is: \\n\",productdf2)\n",
    "print (\"Dimension of the second data frame is: \",productdf2.shape)\n",
    "#Adding rows to the data frame by adding other data frame.\n",
    "productdf3=pd.concat([productdf,productdf2])\n",
    "print (\"Dimension of the new data frame is: \",productdf3.shape)\n",
    "#Adding column named \"Mobile\" to the data frame.\n",
    "productdf3 [\"Mobile\"]=[15000, 2, 30, 40]\n",
    "#Adding column named \"Laptop\" to the data frame.\n",
    "productdf3 [\"Laptop\"]=[35000,3,10,15]\n",
    "#Displaying the new data frame.\n",
    "print (\"New data frame after adding two columns is: \\n\", productdf3)\n",
    "#Displaying the shape of the new data frame.\n",
    "print (\"Dimension of the new data frame is:\",productdf3.shape)\n",
    "#Displaying the size of the data frame using size.\n",
    "print (\"Size of the new data frame is:\",productdf3.size)\n"
   ]
  },
  {
   "cell_type": "markdown",
   "id": "0cae4bc6-4f8c-4abb-85b5-fe19caa4df40",
   "metadata": {},
   "source": [
    "# Deleting Rows and Columns from the Data Frame"
   ]
  },
  {
   "cell_type": "markdown",
   "id": "8bc414ac-bd71-45fb-aa58-fe10dd34d737",
   "metadata": {},
   "source": [
    "It is possible to delete rows and columns from the data frame using the drop() function.\n",
    "Columns which needs to be deleted from the data frame are specified by the names of the \n",
    "columns as value of the “columns” argument in drop() function. Rows can be deleted by \n",
    "specifying the index of the rows to be deleted as the value of the “index” argument \n",
    "in drop() function"
   ]
  },
  {
   "cell_type": "code",
   "execution_count": 11,
   "id": "b9ce5e1e-6990-446e-a1a4-2ffdf7fa0e4e",
   "metadata": {},
   "outputs": [
    {
     "name": "stdout",
     "output_type": "stream",
     "text": [
      "Dimension after deleting two columns is: (4, 4)\n",
      "Dimension after deleting row at index 0 is:  (2, 4)\n",
      "The modified data frame is: \n",
      "    Shirt  Mouse  Mobile  Laptop\n",
      "1      2      6       2       3\n",
      "1      6      8      40      15\n",
      "Size of modified data frame is: 8\n"
     ]
    }
   ],
   "source": [
    "#Program for deleting rows and columns from the data frame. \n",
    "#Deleting multiple columns from the data frame using drop() function. \n",
    "productdf3=productdf3.drop (columns=[\"Pen\", \"Book\"])\n",
    "print (\"Dimension after deleting two columns is:\",productdf3.shape)\n",
    "#Deleting row from the data frame. \n",
    "productdf3=productdf3.drop(index=[0])\n",
    "print (\"Dimension after deleting row at index 0 is: \",productdf3.shape) \n",
    "print (\"The modified data frame is: \\n\", productdf3)\n",
    "print(\"Size of modified data frame is:\",productdf3.size)\n"
   ]
  },
  {
   "cell_type": "markdown",
   "id": "b00010a5-30b5-4617-89a7-4ef7765297b6",
   "metadata": {},
   "source": [
    "# Import of Data"
   ]
  },
  {
   "cell_type": "markdown",
   "id": "1efcdda7-f7ff-48ff-b2fd-e27bc102e3e0",
   "metadata": {},
   "source": [
    "Pandas library provide many functions to import data from files of different types of \n",
    "software and stores in a data frame in python. \n",
    "\n",
    "read_csv() helps to read a “csv” file; \n",
    "\n",
    "read_excel() helps to read an “excel” file; \n",
    "\n",
    "read_html() helps to read a “html” file; \n",
    "\n",
    " read_json() helps to read a “json” file and \n",
    "     \n",
    "read_sql() helps to read a “sql” file. \n"
   ]
  },
  {
   "cell_type": "code",
   "execution_count": 12,
   "id": "c485c870-3951-44f2-8040-3a071622eb3b",
   "metadata": {},
   "outputs": [
    {
     "name": "stdout",
     "output_type": "stream",
     "text": [
      "Dimension of the dataset is: (583, 11)\n",
      "Size of the dataset is:  6413\n",
      "Columns in the dataset are:\n",
      " Index(['Age', 'Gender', 'TB', 'DB', 'Alkphos', 'Sgpt', 'Sgot', 'TP', 'ALB',\n",
      "       'AG', 'LiverPatient'],\n",
      "      dtype='object')\n",
      "Columns in the dataset are:\n",
      " Index(['Age', 'Gender', 'TB', 'DB', 'Alkphos', 'Sgpt', 'Sgot', 'TP', 'ALB',\n",
      "       'AG', 'LiverPatient'],\n",
      "      dtype='object')\n"
     ]
    }
   ],
   "source": [
    "#Importing \"csv\" file and storing in data frame. \n",
    "liver=pd.read_csv (\"Ind-liver-patient.csv\")\n",
    "#Determining dimension and size of the dataset. \n",
    "print (\"Dimension of the dataset is:\",liver.shape) \n",
    "print (\"Size of the dataset is: \", liver.size)\n",
    "#Determining columns of the dataset.\n",
    "print (\"Columns in the dataset are:\\n\", liver.keys()) \n",
    "print (\"Columns in the dataset are:\\n\", liver.columns)\n"
   ]
  },
  {
   "cell_type": "markdown",
   "id": "f3f7a9c4-2e13-443b-86b7-c99a0073a6a6",
   "metadata": {},
   "source": [
    "# Functions of Data Frame"
   ]
  },
  {
   "cell_type": "markdown",
   "id": "47b99567-1dd0-4e3a-b3f4-029e03a3f2ab",
   "metadata": {},
   "source": [
    "The Pandas library provides many functions with respect to a data frame. \n",
    "    \n",
    "These functions are related to:\n",
    "basic functions related to information of the data frame like describe(), info() etc.\n",
    "    "
   ]
  },
  {
   "cell_type": "code",
   "execution_count": 13,
   "id": "8a860dc2-e44a-46c6-83a4-c3a21388aff3",
   "metadata": {},
   "outputs": [
    {
     "name": "stdout",
     "output_type": "stream",
     "text": [
      "<class 'pandas.core.frame.DataFrame'>\n",
      "RangeIndex: 583 entries, 0 to 582\n",
      "Data columns (total 11 columns):\n",
      " #   Column        Non-Null Count  Dtype  \n",
      "---  ------        --------------  -----  \n",
      " 0   Age           583 non-null    int64  \n",
      " 1   Gender        583 non-null    object \n",
      " 2   TB            583 non-null    float64\n",
      " 3   DB            583 non-null    float64\n",
      " 4   Alkphos       583 non-null    int64  \n",
      " 5   Sgpt          583 non-null    int64  \n",
      " 6   Sgot          583 non-null    int64  \n",
      " 7   TP            583 non-null    float64\n",
      " 8   ALB           583 non-null    float64\n",
      " 9   AG            579 non-null    float64\n",
      " 10  LiverPatient  583 non-null    int64  \n",
      "dtypes: float64(5), int64(5), object(1)\n",
      "memory usage: 50.2+ KB\n",
      "Information of the dataset is: \n",
      " None\n",
      "Details of the dataset is: \n",
      " <bound method NDFrame.describe of      Age  Gender    TB   DB  Alkphos  Sgpt  Sgot   TP  ALB    AG  LiverPatient\n",
      "0     65  Female   0.7  0.1      187    16    18  6.8  3.3  0.90             1\n",
      "1     62    Male  10.9  5.5      699    64   100  7.5  3.2  0.74             1\n",
      "2     62    Male   7.3  4.1      490    60    68  7.0  3.3  0.89             1\n",
      "3     58    Male   1.0  0.4      182    14    20  6.8  3.4  1.00             1\n",
      "4     72    Male   3.9  2.0      195    27    59  7.3  2.4  0.40             1\n",
      "..   ...     ...   ...  ...      ...   ...   ...  ...  ...   ...           ...\n",
      "578   60    Male   0.5  0.1      500    20    34  5.9  1.6  0.37             2\n",
      "579   40    Male   0.6  0.1       98    35    31  6.0  3.2  1.10             1\n",
      "580   52    Male   0.8  0.2      245    48    49  6.4  3.2  1.00             1\n",
      "581   31    Male   1.3  0.5      184    29    32  6.8  3.4  1.00             1\n",
      "582   38    Male   1.0  0.3      216    21    24  7.3  4.4  1.50             2\n",
      "\n",
      "[583 rows x 11 columns]>\n",
      "Description of the dataset is: \n",
      "               Age          TB          DB      Alkphos         Sgpt  \\\n",
      "count  583.000000  583.000000  583.000000   583.000000   583.000000   \n",
      "mean    44.746141    3.298799    1.486106   290.576329    80.713551   \n",
      "std     16.189833    6.209522    2.808498   242.937989   182.620356   \n",
      "min      4.000000    0.400000    0.100000    63.000000    10.000000   \n",
      "25%     33.000000    0.800000    0.200000   175.500000    23.000000   \n",
      "50%     45.000000    1.000000    0.300000   208.000000    35.000000   \n",
      "75%     58.000000    2.600000    1.300000   298.000000    60.500000   \n",
      "max     90.000000   75.000000   19.700000  2110.000000  2000.000000   \n",
      "\n",
      "              Sgot          TP         ALB          AG  LiverPatient  \n",
      "count   583.000000  583.000000  583.000000  579.000000    583.000000  \n",
      "mean    109.910806    6.483190    3.141852    0.947064      1.286449  \n",
      "std     288.918529    1.085451    0.795519    0.319592      0.452490  \n",
      "min      10.000000    2.700000    0.900000    0.300000      1.000000  \n",
      "25%      25.000000    5.800000    2.600000    0.700000      1.000000  \n",
      "50%      42.000000    6.600000    3.100000    0.930000      1.000000  \n",
      "75%      87.000000    7.200000    3.800000    1.100000      2.000000  \n",
      "max    4929.000000    9.600000    5.500000    2.800000      2.000000  \n"
     ]
    }
   ],
   "source": [
    "#Program for using functions related to general information of data. \n",
    "#Displaying the information of the dataset using info() function. \n",
    "print (\"Information of the dataset is: \\n\", liver.info())\n",
    "#Displaying the complete dataset using describe. \n",
    "print (\"Details of the dataset is: \\n\", liver.describe)\n",
    "#Displaying descriptive statistical values of column using describe(). \n",
    "print (\"Description of the dataset is: \\n\", liver.describe())\n"
   ]
  },
  {
   "cell_type": "markdown",
   "id": "d955dbc3-35cd-431d-bc91-216aac01793d",
   "metadata": {},
   "source": [
    "displaying records using head(), tail() etc., "
   ]
  },
  {
   "cell_type": "code",
   "execution_count": 14,
   "id": "dc6a71f3-dde2-4dfd-bddc-d1136374f353",
   "metadata": {},
   "outputs": [
    {
     "name": "stdout",
     "output_type": "stream",
     "text": [
      "First five records of dataset are:\n",
      "    Age  Gender    TB   DB  Alkphos  Sgpt  Sgot   TP  ALB    AG  LiverPatient\n",
      "0   65  Female   0.7  0.1      187    16    18  6.8  3.3  0.90             1\n",
      "1   62    Male  10.9  5.5      699    64   100  7.5  3.2  0.74             1\n",
      "2   62    Male   7.3  4.1      490    60    68  7.0  3.3  0.89             1\n",
      "3   58    Male   1.0  0.4      182    14    20  6.8  3.4  1.00             1\n",
      "4   72    Male   3.9  2.0      195    27    59  7.3  2.4  0.40             1\n",
      "First two records of dataset are:\n",
      "    Age  Gender    TB   DB  Alkphos  Sgpt  Sgot   TP  ALB    AG  LiverPatient\n",
      "0   65  Female   0.7  0.1      187    16    18  6.8  3.3  0.90             1\n",
      "1   62    Male  10.9  5.5      699    64   100  7.5  3.2  0.74             1\n",
      "First 3 records of TB and DB: \n",
      "      TB   DB\n",
      "0   0.7  0.1\n",
      "1  10.9  5.5\n",
      "2   7.3  4.1\n",
      "Last three records of dataset is: \n",
      "      Age Gender   TB   DB  Alkphos  Sgpt  Sgot   TP  ALB   AG  LiverPatient\n",
      "580   52   Male  0.8  0.2      245    48    49  6.4  3.2  1.0             1\n",
      "581   31   Male  1.3  0.5      184    29    32  6.8  3.4  1.0             1\n",
      "582   38   Male  1.0  0.3      216    21    24  7.3  4.4  1.5             2\n",
      "Last 2 records of age and TB: \n",
      "      Age   TB\n",
      "581   31  1.3\n",
      "582   38  1.0\n",
      "Values for Alkphos column are:\n",
      " [ 187  699  490  182  195  208  154  202  202  290  210  260  310  214\n",
      "  145  183  342  165  293  293  610  482  542  231  194  289  289  240\n",
      "  128  188  190  156  187  410  410  482  145  374  263  275  168  160\n",
      "  630  415  208  275  150  230  176  206  170  161  253  198  272  272\n",
      "  198  175  367  145  158  158  158  208  259  470  195  215  239  215\n",
      "  186  188  205  171  145  162  518 1620  146  670  915   75  148  258\n",
      "  237  269  320  298  538  238  214  308  298  204  168  282  298  215\n",
      "  265  312  161  243  224  225  170  145  145  158  158  486  188  257\n",
      "  179  272  661 1580 1630  194  280  298  300  290  188  178  177  201\n",
      "  802  248 1896  263  512  237  199  238  178 1110  310  282  282  380\n",
      "  186  159  332  332  189  201  168  392  202  286  180  218  182  178\n",
      "  290  298  462  196  196  282  750 1050  599  180  180  282  332  292\n",
      "  962  950  200  298  750  175  175  198  482 1020  562  386  250  218\n",
      "  170  171  201  298  750  191  614  218  314  257  272  206  209 1124\n",
      "  664  142  169 1420  218  218  145  142  135  163  285  350  220  189\n",
      "  190  219  160  401  180  100  116  159  289  125  147  192  265  175\n",
      "  400  120  173  186  202  290  196  282  157 2110  285  360  300  158\n",
      "  190  196  165  230  205  316  218  290  272  190  202  498  480  680\n",
      "  258  180  152  859  901  335  182  285  245  505  228  185  247  348\n",
      "  195  140  358  110  235  460  380  262  196  180  190  190  209  144\n",
      "  123  192  188  316  300  575  192  155  239  315  250  174  245  191\n",
      "  340  202  234  159  190  195  180  280  430  206  155  195  588  174\n",
      "  165  527  175  574  106  158  195  179  182  198  216  310   63  198\n",
      "  205  302  171  158  358  174  192  211  157  210  258  152  350  182\n",
      "  458  375  405  215  206  650  198  198  195  230  115  216  358  158\n",
      "  145  195  144  621  150  178  256  205  176  146  218  182  215  165\n",
      "  183  176  418  271  182  130  558  135  326  140  145  206  168  202\n",
      "  192  185  331  188  172  159  490  152  105  160  160  102  148  162\n",
      "  149  580  310  140  175  152  208  205  162   92  162  199  198  215\n",
      "  180  719  554  555  215  509  190  208  260  690  862  592  450 1350\n",
      " 1350  163  246  178  240  100  166  170  194 1750  182  236  165  201\n",
      "  194  206  212  157  162  168  198  292  298  152  163  279  181 1550\n",
      "  142  173  282  279 1100  224  159  186  189  192  140  686  215  309\n",
      "  110  130  164  270  137   90  190  165  167  185  197  154  226  310\n",
      "  310  220  196  186  352  282   92  182  103  850  195  276  171  146\n",
      "  193  180  805  265  185  165  189  198  151  349  365  305  127  238\n",
      "  218  219  239  194  450  254  205  320  195  215  230  189  168  215\n",
      "  210  108  224  230  185  137  156  210  268  298  315  214  138  285\n",
      "  162  298  230  466  227  395   97  406  114  198  173  204  350  153\n",
      "  188  380  214  768  172  160  196  232  220  290  180  189  275  390\n",
      "  356  315  388  298  165  143  191  251  200  268  236  215  134  612\n",
      "  515  560  289  190  500   98  245  184  216]\n"
     ]
    }
   ],
   "source": [
    "#Use of head() function to display starting records.\n",
    "#Displaying first/last records from dataset - head(), tail() function. \n",
    "print (\"First five records of dataset are:\\n\", liver.head())\n",
    "#Displaying the first three records.\n",
    "print (\"First two records of dataset are:\\n\", liver.head(2))\n",
    "#Displaying the first three records of \"TB\" and \"DB\".\n",
    "print (\"First 3 records of TB and DB: \\n\", liver [['TB', 'DB']].head(3))\n",
    "#Use of tail() function to display ending records.\n",
    "#Displaying the last two records.\n",
    "print (\"Last three records of dataset is: \\n\", liver.tail(3))\n",
    "#Displaying the last two records of \"Age\" and \"TB\".\n",
    "print (\"Last 2 records of age and TB: \\n\", liver [['Age', 'TB']].tail(2))\n",
    "#Determining all the values of Alkphos column only.\n",
    "print (\"Values for Alkphos column are:\\n\", liver ['Alkphos'].values)\n"
   ]
  },
  {
   "cell_type": "code",
   "execution_count": 15,
   "id": "38635591-447f-47bf-9aa8-6f8770442d5e",
   "metadata": {},
   "outputs": [
    {
     "name": "stdout",
     "output_type": "stream",
     "text": [
      "Number of records for gender: \n",
      " Gender\n",
      "Male      441\n",
      "Female    142\n",
      "Name: count, dtype: int64\n",
      "Number of records based on gender in percentage form:\n",
      " Gender\n",
      "Male      0.756432\n",
      "Female    0.243568\n",
      "Name: count, dtype: float64\n",
      "Describing the details of TB column: \n",
      " count    583.000000\n",
      "mean       3.298799\n",
      "std        6.209522\n",
      "min        0.400000\n",
      "25%        0.800000\n",
      "50%        1.000000\n",
      "75%        2.600000\n",
      "max       75.000000\n",
      "Name: TB, dtype: float64\n"
     ]
    }
   ],
   "source": [
    "#Program to use different functions for specified column.\n",
    "#Determine number of records based on gender.\n",
    "print (\"Number of records for gender: \\n\",liver ['Gender'].value_counts())\n",
    "#Determine number of records based on gender in percentage form.\n",
    "print (\"Number of records based on gender in percentage form:\\n\", \n",
    "       liver['Gender'].value_counts ()/len(liver['Gender']))\n",
    "#Displaying the descriptive statistics of \"TB\" column.\n",
    "print (\"Describing the details of TB column: \\n\", liver ['TB'].describe())\n"
   ]
  },
  {
   "cell_type": "markdown",
   "id": "33040859-0bae-4d81-8043-cafc4317830c",
   "metadata": {},
   "source": [
    "statistical functions - mean(), median() etc.\n",
    "mathematical functions - min(), prod(), max(), sum() etc.   \n",
    " "
   ]
  },
  {
   "cell_type": "code",
   "execution_count": 16,
   "id": "fe87cfb9-45be-4ee5-9670-a7e80addd79a",
   "metadata": {},
   "outputs": [
    {
     "name": "stdout",
     "output_type": "stream",
     "text": [
      "Mean of age is: 44.74614065180103\n",
      "Median of age is: 45.0\n",
      "Maximum alkphos is:  2110\n",
      "Minimum alkphos is:  63\n",
      "Sum of TB is: 1923.1999999999998\n",
      "Product of TB is: 2.163950516974104e+117\n",
      "Three smallest values of DB: \n",
      " 0     0.1\n",
      "10    0.1\n",
      "15    0.1\n",
      "Name: DB, dtype: float64\n",
      "Four largest values of DB: \n",
      " 559    19.7\n",
      "531    18.3\n",
      "504    17.1\n",
      "259    14.2\n",
      "Name: DB, dtype: float64\n"
     ]
    }
   ],
   "source": [
    "#Program to use mathematical and statistical functions on filtered data. \n",
    "#Determining mean of Age column using mean () function.\n",
    "print (\"Mean of age is:\", liver ['Age'].mean())\n",
    "#Determining median of Age column using median () function. \n",
    "print (\"Median of age is:\", liver ['Age'].median())\n",
    "#Determining maximum of Alkphos column using max() function. \n",
    "print (\"Maximum alkphos is: \", liver['Alkphos'].max())\n",
    "#Determining minimum of Alkphos column using min() function. \n",
    "print (\"Minimum alkphos is: \", liver['Alkphos'].min())\n",
    "#Determining sum of 'TB' column using sum() function. \n",
    "print (\"Sum of TB is:\", liver['TB'].sum())\n",
    "#Determining product of 'TB' column using product() function. \n",
    "print (\"Product of TB is:\", liver['TB'].product())\n",
    "#Determining 3 smallest values of 'DB' using nsmallest() function. \n",
    "print (\"Three smallest values of DB: \\n\",liver ['DB'].nsmallest().head(3))\n",
    "#Determining 4 largest values of 'DB' using nlargest () function. \n",
    "print (\"Four largest values of DB: \\n\", liver ['DB'].nlargest().head (4))   "
   ]
  },
  {
   "cell_type": "markdown",
   "id": "38978046-cf11-4402-82c7-27d18f7f8f02",
   "metadata": {},
   "source": [
    "sorting of the data frame on the basis of specified column using sort_values() \n",
    "function etc."
   ]
  },
  {
   "cell_type": "code",
   "execution_count": 18,
   "id": "35829a17-f4e9-40fd-ac57-929abfb87a3f",
   "metadata": {},
   "outputs": [
    {
     "name": "stdout",
     "output_type": "stream",
     "text": [
      "Top two records based on descending order for TP are:\n",
      "      Age Gender   TB   DB  Alkphos  Sgpt  Sgot   TP  ALB   AG  LiverPatient\n",
      "273   30   Male  0.7  0.2      262    15    18  9.6  4.7  1.2             1\n",
      "270   37   Male  0.7  0.2      235    96    54  9.5  4.9  1.0             1\n",
      "Bottom two records based on descending order for TP are: \n",
      "      Age Gender   TB   DB  Alkphos  Sgpt  Sgot   TP  ALB   AG  LiverPatient\n",
      "269   26   Male  0.6  0.1      110    15    20  2.8  1.6  1.3             1\n",
      "180   75   Male  2.8  1.3      250    23    29  2.7  0.9  0.5             1\n",
      "Top two records based on ascending order for TP are: \n",
      "      Age Gender   TB   DB  Alkphos  Sgpt  Sgot   TP  ALB   AG  LiverPatient\n",
      "180   75   Male  2.8  1.3      250    23    29  2.7  0.9  0.5             1\n",
      "269   26   Male  0.6  0.1      110    15    20  2.8  1.6  1.3             1\n",
      "Bottom two records based on ascending order for TP are:\n",
      "      Age Gender   TB   DB  Alkphos  Sgpt  Sgot   TP  ALB   AG  LiverPatient\n",
      "270   37   Male  0.7  0.2      235    96    54  9.5  4.9  1.0             1\n",
      "273   30   Male  0.7  0.2      262    15    18  9.6  4.7  1.2             1\n"
     ]
    }
   ],
   "source": [
    "#Program for sorting in ascending, descending order on basis of \"TP\".\n",
    "#Sorting in descending order.\n",
    "print (\"Top two records based on descending order for TP are:\\n\", \n",
    "       liver.sort_values (by='TP', ascending=False).head(2))\n",
    "print (\"Bottom two records based on descending order for TP are: \\n\", \n",
    "       liver.sort_values (by='TP', ascending=False).tail(2))\n",
    "#Sorting in ascending order.\n",
    "print (\"Top two records based on ascending order for TP are: \\n\", \n",
    "       liver.sort_values (by='TP', ascending=True).head(2))\n",
    "print (\"Bottom two records based on ascending order for TP are:\\n\", \n",
    "       liver.sort_values (by='TP', ascending=True).tail(2))\n"
   ]
  },
  {
   "cell_type": "markdown",
   "id": "f053cd11-8800-4d06-9fc6-7149d6da28ed",
   "metadata": {},
   "source": [
    "# Data Extraction "
   ]
  },
  {
   "cell_type": "markdown",
   "id": "583739d2-1708-4bab-b23b-e322cc297738",
   "metadata": {},
   "source": [
    "Different relational operators like <, >, ==, <=, >=,  != etc. \n",
    "can be used to create conditions. These conditions will help in filtering data from the \n",
    "dataset. \n"
   ]
  },
  {
   "cell_type": "code",
   "execution_count": 19,
   "id": "34e0e8c4-cb93-48a8-80a9-101555dc53f6",
   "metadata": {},
   "outputs": [
    {
     "name": "stdout",
     "output_type": "stream",
     "text": [
      "First 2 records of male patients are:\n",
      "    Age Gender    TB   DB  Alkphos  Sgpt  Sgot   TP  ALB    AG  LiverPatient\n",
      "1   62   Male  10.9  5.5      699    64   100  7.5  3.2  0.74             1\n",
      "2   62   Male   7.3  4.1      490    60    68  7.0  3.3  0.89             1\n",
      "First 3 records for age>=50 are:\n",
      "    Age  Gender    TB   DB  Alkphos  Sgpt  Sgot   TP  ALB    AG  LiverPatient\n",
      "0   65  Female   0.7  0.1      187    16    18  6.8  3.3  0.90             1\n",
      "1   62    Male  10.9  5.5      699    64   100  7.5  3.2  0.74             1\n",
      "2   62    Male   7.3  4.1      490    60    68  7.0  3.3  0.89             1\n",
      "Last 2 records having ALB<=1 are:\n",
      "      Age  Gender   TB   DB  Alkphos  Sgpt  Sgot   TP  ALB   AG  LiverPatient\n",
      "458   26    Male  6.8  3.2      140    37    19  3.6  0.9  0.3             1\n",
      "533   46  Female  1.4  0.4      298   509   623  3.6  1.0  0.3             1\n"
     ]
    }
   ],
   "source": [
    "#Program for using relational operators for filtering the data. \n",
    "#Displaying the first 2 records where gender is male.\n",
    "male_data=liver[liver[ \"Gender\"]==\"Male\"]\n",
    "print (\"First 2 records of male patients are:\\n\",male_data.head(2))\n",
    "#Displaying the first 3 records where Age is greater than equal to 50. \n",
    "age_more50=liver['Age']>=50\n",
    "print (\"First 3 records for age>=50 are:\\n\", liver [age_more50].head(3))\n",
    "#Displaying the last 2 records where ALB is less than or equal to 1. \n",
    "alb_less1=liver['ALB']<=1\n",
    "print(\"Last 2 records having ALB<=1 are:\\n\",liver [alb_less1].tail(2))\n"
   ]
  },
  {
   "cell_type": "markdown",
   "id": "5a1c61e7-baf3-453a-aebf-dac65a5bf0dc",
   "metadata": {},
   "source": [
    "The use of logical operators like and (&), or(|) help to filter the data on the basis of \n",
    "multiple conditions. \n"
   ]
  },
  {
   "cell_type": "code",
   "execution_count": 22,
   "id": "96c362f8-ac59-483c-b25b-d9860837288f",
   "metadata": {},
   "outputs": [
    {
     "name": "stdout",
     "output_type": "stream",
     "text": [
      "Shape of new dataset using and is:  (390, 11)\n",
      "Sum of TB from filtered set:  849.8000000000001\n",
      "Product of DB from filtered set:  9.398235595811234e-134\n",
      "Shape of new dataset using or is:  (569, 11)\n",
      "Mean of ALB from the filtered set:  3.1441124780316345\n",
      "Median of TP from the filtered set:  6.6\n",
      "Shape of new dataset using and & or is:  (583, 11)\n",
      "Maximum of Alkphos from filtered set:  2110\n",
      "Minimum of AG from the filtered set:  0.3\n"
     ]
    }
   ],
   "source": [
    "#Creating a new subset using \"and\" for multiple conditions.\n",
    "filter1=liver[(liver ['Age'] >=35) & (liver ['DB']<=6)]\n",
    "print (\"Shape of new dataset using and is: \", filter1.shape)\n",
    "#Applying sum and product functions on filtered data.\n",
    "#Determining sum of \"TB\" for a subset.\n",
    "print (\"Sum of TB from filtered set: \", filter1['TB'].sum())\n",
    "#Determining product of \"DB\" for a subset.\n",
    "print(\"Product of DB from filtered set: \", filter1['DB'].product())\n",
    "#Creating a new subset using \"or\" operator for multiple conditions.\n",
    "filter2=liver[(liver ['Gender']==\"Female\") | (liver ['Age']>=35) | (liver ['DB']<=6)] \n",
    "print (\"Shape of new dataset using or is: \", filter2.shape)\n",
    "#Applying mean and median functions on filtered data.\n",
    "#Determining mean of \"ALB\" for a subset.\n",
    "print (\"Mean of ALB from the filtered set: \", filter2 ['ALB'].mean())\n",
    "#Determining median of \"TP\" for a subset.\n",
    "print (\"Median of TP from the filtered set: \", filter2 ['TP'].median())\n",
    "#Using both \"and\" and \"or\" together for multiple conditions.\n",
    "filter3=liver[(liver ['LiverPatient'] ==1) & (liver.Age>=50) | (liver ['TP']>=2) \n",
    "| (liver.ALB>2)]\n",
    "print (\"Shape of new dataset using and & or is: \", filter3. shape)\n",
    "#Applying maximum and minimum functions on filtered data.\n",
    "#Determining maximum of \"Alkphos\" for a subset.\n",
    "print (\"Maximum of Alkphos from filtered set: \", filter3 ['Alkphos'].max())\n",
    "#Determining minimum of \"AG\" for a subset.\n",
    "print (\"Minimum of AG from the filtered set: \", filter3 ['AG'].min())\n"
   ]
  },
  {
   "cell_type": "markdown",
   "id": "1150dcbd-cb3c-4827-952e-4d5dc3f04450",
   "metadata": {},
   "source": [
    "The use of indexers like loc and iloc also contribute a lot for extracting data according \n",
    "to the user requirement.\n"
   ]
  },
  {
   "cell_type": "code",
   "execution_count": 23,
   "id": "2a7b8f39-453b-482b-9592-d71f2936db69",
   "metadata": {},
   "outputs": [
    {
     "name": "stdout",
     "output_type": "stream",
     "text": [
      "Third column of sixth record:  1.8\n",
      "Sixth Record: \n",
      " Age               46\n",
      "Gender          Male\n",
      "TB               1.8\n",
      "DB               0.7\n",
      "Alkphos          208\n",
      "Sgpt              19\n",
      "Sgot              14\n",
      "TP               7.6\n",
      "ALB              4.4\n",
      "AG               1.3\n",
      "LiverPatient       1\n",
      "Name: 5, dtype: object\n",
      "Selected row and selected column: \n",
      "   Gender  Alkphos\n",
      "5   Male      208\n",
      "9   Male      290\n",
      "Range of records for sixth column: \n",
      "    Sgpt\n",
      "7    14\n",
      "8    22\n"
     ]
    }
   ],
   "source": [
    "#Displaying single column of single row.\n",
    "print (\"Third column of sixth record: \", liver.iloc[5,2])\n",
    "#Displaying all the columns of specific row.\n",
    "print (\"Sixth Record: \\n\", liver.iloc[5])\n",
    "#Displaying multiple specified columns and rows.\n",
    "print (\"Selected row and selected column: \\n\", liver.iloc[[5,9], [1,4]])\n",
    "#Displaying specific column of range of rows.\n",
    "print (\"Range of records for sixth column: \\n\", liver.iloc[7:9, [5]])"
   ]
  },
  {
   "cell_type": "code",
   "execution_count": 27,
   "id": "cad9d6e4-838d-4203-846a-3d629dc164ce",
   "metadata": {},
   "outputs": [
    {
     "name": "stdout",
     "output_type": "stream",
     "text": [
      "Displaying specific single record: \n",
      " Age               58\n",
      "Gender          Male\n",
      "TB               1.0\n",
      "DB               0.4\n",
      "Alkphos          182\n",
      "Sgpt              14\n",
      "Sgot              20\n",
      "TP               6.8\n",
      "ALB              3.4\n",
      "AG               1.0\n",
      "LiverPatient       1\n",
      "Name: 3, dtype: object\n",
      "Displaying range of records: \n",
      "    Age Gender    TB   DB  Alkphos  Sgpt  Sgot   TP  ALB    AG  LiverPatient\n",
      "1   62   Male  10.9  5.5      699    64   100  7.5  3.2  0.74             1\n",
      "2   62   Male   7.3  4.1      490    60    68  7.0  3.3  0.89             1\n",
      "3   58   Male   1.0  0.4      182    14    20  6.8  3.4  1.00             1\n",
      "4   72   Male   3.9  2.0      195    27    59  7.3  2.4  0.40             1\n",
      "5   46   Male   1.8  0.7      208    19    14  7.6  4.4  1.30             1\n",
      "Displaying multiple specified records: \n",
      "     Age  Gender   TB   DB  Alkphos  Sgpt  Sgot   TP  ALB    AG  LiverPatient\n",
      "14   61    Male  0.7  0.2      145    53    41  5.8  2.7  0.87             1\n",
      "25   34    Male  4.1  2.0      289   875   731  5.0  2.7  1.10             1\n",
      "36   17  Female  0.7  0.2      145    18    36  7.2  3.9  1.18             2\n",
      "Displaying selected rows for range of columns: \n",
      "     TB   DB  Alkphos  Sgpt  Sgot   TP\n",
      "5  1.8  0.7      208    19    14  7.6\n",
      "6  0.9  0.2      154    16    12  7.0\n",
      "Displaying range of rows for specific columns: \n",
      "    Age  Gender   TB\n",
      "7   29  Female  0.9\n",
      "8   17    Male  0.9\n",
      "9   55    Male  0.7\n"
     ]
    }
   ],
   "source": [
    "#Retrieving one specific row by loc method.\n",
    "print (\"Displaying specific single record: \\n\", liver.loc[3])\n",
    "#Retrieving range of rows by loc method.\n",
    "print (\"Displaying range of records: \\n\", liver.loc[1:5,])\n",
    "#Retrieving different multiple rows by loc method.\n",
    "print (\"Displaying multiple specified records: \\n\", liver.loc[[14,25,36]])\n",
    "#Retrieving selected rows with range of columns between 'TB' and 'TP'.\n",
    "print (\"Displaying selected rows for range of columns: \\n\", liver.loc[[5, 6], 'TB':'TP'])\n",
    "#Retrieving rows with specific index and with specific columns.\n",
    "print (\"Displaying range of rows for specific columns: \\n\", liver.loc[[7,8,9],['Age', 'Gender', 'TB']])\n"
   ]
  },
  {
   "cell_type": "code",
   "execution_count": 28,
   "id": "e9732b28-ab89-4134-81a3-4e307d71eb04",
   "metadata": {},
   "outputs": [
    {
     "name": "stdout",
     "output_type": "stream",
     "text": [
      "Displaying rows for DB==2 of selected columns: \n",
      "     Age Gender   TB\n",
      "4    72   Male  3.9\n",
      "25   34   Male  4.1\n",
      "26   34   Male  4.1\n",
      "Displaying rows for TB<0.1 of selected columns: \n",
      " Empty DataFrame\n",
      "Columns: [Gender, TB, DB]\n",
      "Index: []\n",
      "Displaying rows for age>80 of range of columns: \n",
      "      Age  Gender   TB   DB\n",
      "29    84  Female  0.7  0.2\n",
      "44    85  Female  1.0  0.3\n",
      "571   90    Male  1.1  0.3\n",
      "Displaying rows with Sgpt column between 400 and 420:\n",
      "      TB  Alkphos\n",
      "43  2.6      415\n",
      "90  5.7      214\n",
      "91  6.8      308\n",
      "92  8.6      298\n"
     ]
    }
   ],
   "source": [
    "#Using different relational operators for filtering data.\n",
    "#Using = condition for selected columns.\n",
    "print (\"Displaying rows for DB==2 of selected columns: \\n\", \n",
    "       liver.loc [liver ['DB'] ==2, 'Age': 'TB'])\n",
    "#Using condition for selected columns.\n",
    "print (\"Displaying rows for TB<0.1 of selected columns: \\n\", \n",
    "       liver.loc[liver['TB']<0.1, 'Gender': 'DB'])\n",
    "#Using > condition for selected columns.\n",
    "print (\"Displaying rows for age>80 of range of columns: \\n\",\n",
    "       liver.loc[liver ['Age'] >80, 'Age': 'DB'])\n",
    "#Using > and < conditions together (using &) for selected columns.\n",
    "print (\"Displaying rows with Sgpt column between 400 and 420:\\n\", \n",
    "       liver. loc[ (liver['Sgpt']>400) & (liver ['Sgpt']<= 420), ['TB', 'Alkphos']])\n"
   ]
  },
  {
   "cell_type": "code",
   "execution_count": 29,
   "id": "509faaf2-f9d9-4bad-b9a7-22d71f964226",
   "metadata": {},
   "outputs": [
    {
     "name": "stdout",
     "output_type": "stream",
     "text": [
      "Using startswith Function: \n",
      "      Age  Gender   TB   DB  Alkphos  Sgpt  Sgot   TP  ALB   AG  LiverPatient\n",
      "243   28  Female  0.9  0.2      316    25    23  8.5  5.5  1.8             1\n",
      "Using isin Function: \n",
      "      Age Gender   TB   DB  Alkphos  Sgpt  Sgot   TP  ALB   AG  LiverPatient\n",
      "231   61   Male  0.8  0.1      282    85   231  8.5  4.3  1.0             1\n",
      "291   60   Male  0.7  0.2      174    32    14  7.8  4.2  1.1             2\n"
     ]
    }
   ],
   "source": [
    "#Using startswith to select rows for gender starts with 'Fe', ALB >=5.\n",
    "print (\"Using startswith Function: \\n\", \n",
    "       liver.loc[liver ['Gender']. str.startswith (\"Fe\") & (liver ['ALB'] >= 5)])\n",
    "#Using isin to select rows with ALB-specified values and Age >=60.\n",
    "print (\"Using isin Function: \\n\", \n",
    "       liver.loc[liver['ALB']. isin([4.4, 4.2, 4.3]) & (liver ['Age'] >= 60)])\n"
   ]
  },
  {
   "cell_type": "markdown",
   "id": "e1caaeea-c718-4b50-b02a-413792136bd4",
   "metadata": {},
   "source": [
    "# Group by Functionality"
   ]
  },
  {
   "cell_type": "markdown",
   "id": "73856b6c-fc47-47e0-a952-469bdee630bb",
   "metadata": {},
   "source": [
    "An important feature of data frame is the use of “groupby()” function which is used to \n",
    "group the observations on the basis of a variable. \n",
    "\n",
    "It should be noted that grouping of observations can be done only on the basis of \n",
    "categorical variable and aggregate functions like max(), mean(), median(), min(), sum(), \n",
    "count() on any of the continuous/categorical variable in the dataset. \n"
   ]
  },
  {
   "cell_type": "code",
   "execution_count": 31,
   "id": "908027fd-8875-4e5e-9a9f-ce025fbd173d",
   "metadata": {},
   "outputs": [
    {
     "name": "stdout",
     "output_type": "stream",
     "text": [
      "Number of records based on different gender are:\n",
      " Gender\n",
      "Female    142\n",
      "Male      441\n",
      "Name: Gender, dtype: int64\n",
      "Grouping of observations on basis of Gender and calculating sum of TB:\n",
      " Gender\n",
      "Female     329.8\n",
      "Male      1593.4\n",
      "Name: TB, dtype: float64\n",
      "Grouping on basis of LiverPatient and calculating minimum of DB:\n",
      " LiverPatient\n",
      "1    0.1\n",
      "2    0.1\n",
      "Name: DB, dtype: float64\n",
      "Grouping on basis of LiverPatient and calculating maximum of ALB: \n",
      " LiverPatient\n",
      "1    5.5\n",
      "2    5.0\n",
      "Name: ALB, dtype: float64\n",
      "Grouping on basis of LiverPatient and calculating mean of TP:\n",
      " LiverPatient\n",
      "1    6.459135\n",
      "2    6.543114\n",
      "Name: TP, dtype: float64\n",
      "Grouping on basis of LiverPatient and calculating median of AG:\n",
      " LiverPatient\n",
      "1    0.9\n",
      "2    1.0\n",
      "Name: AG, dtype: float64\n"
     ]
    }
   ],
   "source": [
    "#Using groupby() to group records on basis of categorical variable.\n",
    "#Count the number of records on the basis of Gender.\n",
    "print (\"Number of records based on different gender are:\\n\", \n",
    "       liver ['Gender']. groupby(liver ['Gender']) .count())\n",
    "#Grouping on basis of \"Gender\" and using sum() function for \"TB\".\n",
    "print (\"Grouping of observations on basis of Gender and calculating sum of TB:\\n\",\n",
    "       liver ['TB'].groupby([liver ['Gender']]).sum())\n",
    "#Grouping on basis of \"LiverPatient\" and using min() function for \"DB\".\n",
    "print (\"Grouping on basis of LiverPatient and calculating minimum of DB:\\n\",\n",
    "       liver ['DB']. groupby([liver ['LiverPatient']]).min())\n",
    "#Grouping on basis of \"LiverPatient\" and using max() function for \"ALB\".\n",
    "print (\"Grouping on basis of LiverPatient and calculating maximum of ALB: \\n\", \n",
    "       liver ['ALB']. groupby([liver ['LiverPatient']]).max())\n",
    "#Grouping on basis of \"LiverPatient\" and using mean() function for \"TP\".\n",
    "print (\"Grouping on basis of LiverPatient and calculating mean of TP:\\n\", \n",
    "       liver['TP']. groupby([liver ['LiverPatient']]).mean())\n",
    "#Grouping on basis of \"LiverPatient\", using median () function for \"AG\".\n",
    "print (\"Grouping on basis of LiverPatient and calculating median of AG:\\n\", \n",
    "       liver['AG']. groupby([liver ['LiverPatient']]).median () )\n"
   ]
  },
  {
   "cell_type": "markdown",
   "id": "4cb30990-846b-4bcb-a284-08310d304617",
   "metadata": {},
   "source": [
    "# Creating Charts for Data Frame"
   ]
  },
  {
   "cell_type": "markdown",
   "id": "86b47a01-5cc5-45de-9f64-8ef28be521d3",
   "metadata": {},
   "source": [
    "pandas library also supports to create basic charts for a data frame like pie \n",
    "                                                            chart using pie() function; \n",
    "scatter plot using scatter() function; histogram using hist() function and boxplot using \n",
    "boxplot() function. \n"
   ]
  },
  {
   "cell_type": "code",
   "execution_count": 35,
   "id": "2a87bca4-7262-4ec6-b919-b5adc962468d",
   "metadata": {},
   "outputs": [
    {
     "data": {
      "text/plain": [
       "<Axes: title={'center': 'AG'}, xlabel='LiverPatient'>"
      ]
     },
     "execution_count": 35,
     "metadata": {},
     "output_type": "execute_result"
    },
    {
     "data": {
      "image/png": "[encoded data removed]",
      "text/plain": [
       "<Figure size 640x480 with 1 Axes>"
      ]
     },
     "metadata": {},
     "output_type": "display_data"
    },
    {
     "data": {
      "image/png": "[encoded data removed]",
      "text/plain": [
       "<Figure size 640x480 with 1 Axes>"
      ]
     },
     "metadata": {},
     "output_type": "display_data"
    },
    {
     "data": {
      "image/png": "[encoded data removed]",
      "text/plain": [
       "<Figure size 640x480 with 2 Axes>"
      ]
     },
     "metadata": {},
     "output_type": "display_data"
    },
    {
     "data": {
      "image/png": "[encoded data removed]",
      "text/plain": [
       "<Figure size 640x480 with 1 Axes>"
      ]
     },
     "metadata": {},
     "output_type": "display_data"
    }
   ],
   "source": [
    "\n",
    "#Program for creating charts using Pandas.\n",
    "#Pie chart for \"TB\", labels of Liver Patient of 10 records. \n",
    "data1= liver.iloc[1:10,]\n",
    "data1.plot.pie(y='TB',labels = data1['TB'])\n",
    "#Scatter plot between \"TB\" and \"DB\".\n",
    "liver.plot.scatter ('TB', 'DB')\n",
    "#Histogram for \"Alkphos\" for different values of \"Gender\". \n",
    "liver.hist (column='Alkphos', by='Gender')\n",
    "#Boxplot for \"AG\" for different values of \"LiverPatient\". \n",
    "liver.boxplot (column='AG', by = 'LiverPatient')\n"
   ]
  },
  {
   "cell_type": "code",
   "execution_count": 38,
   "id": "5c52703a-b81e-4de7-8df1-dd2b41880ed2",
   "metadata": {},
   "outputs": [
    {
     "name": "stdout",
     "output_type": "stream",
     "text": [
      "LiverPatient    1    2  All\n",
      "Gender                     \n",
      "Female         92   50  142\n",
      "Male          324  117  441\n",
      "All           416  167  583\n"
     ]
    },
    {
     "data": {
      "text/plain": [
       "<Axes: xlabel='Gender'>"
      ]
     },
     "execution_count": 38,
     "metadata": {},
     "output_type": "execute_result"
    },
    {
     "data": {
      "image/png": "[encoded data removed]",
      "text/plain": [
       "<Figure size 700x500 with 1 Axes>"
      ]
     },
     "metadata": {},
     "output_type": "display_data"
    }
   ],
   "source": [
    "#Using crosstab() for determining observations of two categorical variables. \n",
    "print (pd.crosstab(liver.Gender, liver.LiverPatient, margins=True))\n",
    "#Displaying the bar chart for categorical variables\n",
    "pd.crosstab(liver.Gender,liver.LiverPatient, margins=True).plot(kind='bar',figsize=(7,5))"
   ]
  },
  {
   "cell_type": "markdown",
   "id": "a664203d-39bc-4cab-9b2a-c512092a1901",
   "metadata": {},
   "source": [
    "# Missing Values"
   ]
  },
  {
   "cell_type": "markdown",
   "id": "98da0ecf-efde-4513-9219-e7e96a478009",
   "metadata": {},
   "source": [
    "A missing value is one whose value is unknown. Missing values are represented in Python \n",
    "by the NA symbol.  NAs can arise when there is an empty column in a record in a database, \n",
    "or when excel spreadsheet exist with empty cells.\n",
    "When an element or value is “not available” or a “missing value” arises in statistical \n",
    "terms, the element is assigned the special value NA. There is also a second kind of \n",
    "“missing” values which are produced by numerical computation, these are called NaN \n",
    "(Not a Number) values. Impossible values (e.g., dividing by zero) are also represented \n",
    "by the symbol NaN (not a number).  \n"
   ]
  },
  {
   "cell_type": "markdown",
   "id": "8c1f24b2-7ce1-4174-8f47-e5b2ed77b8f7",
   "metadata": {},
   "source": [
    "Determining Missing Values: The function isnull().sum() gives the total number of missing\n",
    "values for each column in the dataset\n",
    "\n",
    " \n"
   ]
  },
  {
   "cell_type": "code",
   "execution_count": 39,
   "id": "c9650b3c-8efd-4357-bf51-542be20e5824",
   "metadata": {},
   "outputs": [
    {
     "name": "stdout",
     "output_type": "stream",
     "text": [
      "Dimension of the dataset is:  (614, 13)\n",
      "Number of missing values in column: \n",
      " Loan_ID               0\n",
      "Gender               13\n",
      "Married               3\n",
      "Dependents           15\n",
      "Education             0\n",
      "Self_Employed        32\n",
      "ApplicantIncome       0\n",
      "CoapplicantIncome     0\n",
      "LoanAmount           22\n",
      "Loan_Amount_Term     14\n",
      "Credit_History       50\n",
      "Property_Area         0\n",
      "Loan_Status           0\n",
      "dtype: int64\n"
     ]
    }
   ],
   "source": [
    "#Program to use all the data processing techniques in one dataset. \n",
    "loandata=pd.read_csv (\"loan.csv\")\n",
    "#Displaying the dimension of the original dataset.\n",
    "print (\"Dimension of the dataset is: \", loandata.shape)\n",
    "#Information related to number of missing observations for each column. \n",
    "print(\"Number of missing values in column: \\n\", loandata.isnull().sum () )\n"
   ]
  },
  {
   "cell_type": "markdown",
   "id": "d2a7ea7a-7fe5-4a8f-8267-e9ebd7ad5dbb",
   "metadata": {},
   "source": [
    "Deleting Observations containing Missing Values: It is possible to delete the \n",
    "observations from the dataset containing missing values in any column directly. \n",
    "The function dropna(inplace=True) deletes the observations that contain the missing \n",
    "values from the dataset and hence reduces the number of observations. "
   ]
  },
  {
   "cell_type": "code",
   "execution_count": 47,
   "id": "7c815886-9878-4d55-b783-8e05cfcc1ff6",
   "metadata": {},
   "outputs": [
    {
     "name": "stdout",
     "output_type": "stream",
     "text": [
      "Dimension after removing observations:  (480, 13)\n"
     ]
    }
   ],
   "source": [
    "#Creating a copy of the data frame. \n",
    "newloandata=loandata.copy()\n",
    "#Removing the complete observations containing missing values. \n",
    "newloandata.dropna (inplace=True)\n",
    "#Displaying the dimension after removing missing observations. \n",
    "print (\"Dimension after removing observations: \",newloandata.shape)\n"
   ]
  },
  {
   "cell_type": "markdown",
   "id": "4211e8c5-48f9-4a32-b58a-524e65eccb71",
   "metadata": {},
   "source": [
    "Missing Data Imputation: Imputation is a method to fill in the missing values with \n",
    "estimated ones. It is very important to impute the missing data before analysing because \n",
    "the data analysis functions does not work effectively if missing values exist in the \n",
    "dataset. This section focuses on imputation of missing data with different values. \n",
    "The function fillna(value, inplace=True) fills the missing values (NA) with value written \n",
    "as an argument and thus helps in missing data imputation. The value is generally \n",
    "considered as either mean(), median(), mode() or any specified value. \n"
   ]
  },
  {
   "cell_type": "code",
   "execution_count": 46,
   "id": "0e1a2482-f91f-4b95-8644-df6a93abaeec",
   "metadata": {},
   "outputs": [
    {
     "name": "stdout",
     "output_type": "stream",
     "text": [
      "Sum of loan amount before missing data imputation:  86676.0\n",
      "Number of missing values:  22\n",
      "Sum of loan amount after replacing missing values with 0: 86676.0\n",
      "Number of missing values: 0\n",
      "Sum of loan amount after replacing missing values with median: 89492.0\n",
      "Number of missing values: 0\n",
      "Sum of loan amount after replacing missing values with mean:  89897.06756756757\n",
      "Number of missing values:  0\n",
      "Missing values in Gender: 0\n",
      "Missing values in Married:  0\n"
     ]
    },
    {
     "name": "stderr",
     "output_type": "stream",
     "text": [
      "C:\\Users\\CDAC\\AppData\\Local\\Temp\\ipykernel_14752\\1280627076.py:7: FutureWarning: A value is trying to be set on a copy of a DataFrame or Series through chained assignment using an inplace method.\n",
      "The behavior will change in pandas 3.0. This inplace method will never work because the intermediate object on which we are setting values always behaves as a copy.\n",
      "\n",
      "For example, when doing 'df[col].method(value, inplace=True)', try using 'df.method({col: value}, inplace=True)' or df[col] = df[col].method(value) instead, to perform the operation inplace on the original object.\n",
      "\n",
      "\n",
      "  loan1['LoanAmount'].fillna (0, inplace=True)\n",
      "C:\\Users\\CDAC\\AppData\\Local\\Temp\\ipykernel_14752\\1280627076.py:14: FutureWarning: A value is trying to be set on a copy of a DataFrame or Series through chained assignment using an inplace method.\n",
      "The behavior will change in pandas 3.0. This inplace method will never work because the intermediate object on which we are setting values always behaves as a copy.\n",
      "\n",
      "For example, when doing 'df[col].method(value, inplace=True)', try using 'df.method({col: value}, inplace=True)' or df[col] = df[col].method(value) instead, to perform the operation inplace on the original object.\n",
      "\n",
      "\n",
      "  loan2[ 'LoanAmount'].fillna (loan2 ['LoanAmount'].median (), inplace=True)\n",
      "C:\\Users\\CDAC\\AppData\\Local\\Temp\\ipykernel_14752\\1280627076.py:20: FutureWarning: A value is trying to be set on a copy of a DataFrame or Series through chained assignment using an inplace method.\n",
      "The behavior will change in pandas 3.0. This inplace method will never work because the intermediate object on which we are setting values always behaves as a copy.\n",
      "\n",
      "For example, when doing 'df[col].method(value, inplace=True)', try using 'df.method({col: value}, inplace=True)' or df[col] = df[col].method(value) instead, to perform the operation inplace on the original object.\n",
      "\n",
      "\n",
      "  loan3[ 'LoanAmount'].fillna (loan3 [ 'LoanAmount'].mean (), inplace=True)\n",
      "C:\\Users\\CDAC\\AppData\\Local\\Temp\\ipykernel_14752\\1280627076.py:26: FutureWarning: A value is trying to be set on a copy of a DataFrame or Series through chained assignment using an inplace method.\n",
      "The behavior will change in pandas 3.0. This inplace method will never work because the intermediate object on which we are setting values always behaves as a copy.\n",
      "\n",
      "For example, when doing 'df[col].method(value, inplace=True)', try using 'df.method({col: value}, inplace=True)' or df[col] = df[col].method(value) instead, to perform the operation inplace on the original object.\n",
      "\n",
      "\n",
      "  loan4 ['Gender'].fillna (loan4 ['Gender'].mode () .iloc[0], inplace=True)\n",
      "C:\\Users\\CDAC\\AppData\\Local\\Temp\\ipykernel_14752\\1280627076.py:29: FutureWarning: A value is trying to be set on a copy of a DataFrame or Series through chained assignment using an inplace method.\n",
      "The behavior will change in pandas 3.0. This inplace method will never work because the intermediate object on which we are setting values always behaves as a copy.\n",
      "\n",
      "For example, when doing 'df[col].method(value, inplace=True)', try using 'df.method({col: value}, inplace=True)' or df[col] = df[col].method(value) instead, to perform the operation inplace on the original object.\n",
      "\n",
      "\n",
      "  loan4 ['Married'].fillna ('Yes', inplace=True)\n"
     ]
    }
   ],
   "source": [
    "#Determining total loan amount from the data.\n",
    "print (\"Sum of loan amount before missing data imputation: \", \n",
    "       loandata['LoanAmount'].sum()) \n",
    "print (\"Number of missing values: \", loandata['LoanAmount'].isnull().sum())\n",
    "#Replacing missing values of continuous variable \"LoanAmount\" with 0.\n",
    "loan1=loandata.copy()\n",
    "loan1['LoanAmount'].fillna (0, inplace=True)\n",
    "print (\"Sum of loan amount after replacing missing values with 0:\", \n",
    "       loan1['LoanAmount'].sum () ) \n",
    "print(\"Number of missing values:\", loan1['LoanAmount'].isnull().sum())\n",
    "\n",
    "#Replacing missing values of continuous variable \"LoanAmount\" with median. \n",
    "loan2=loandata.copy()\n",
    "loan2[ 'LoanAmount'].fillna (loan2 ['LoanAmount'].median (), inplace=True)\n",
    "print (\"Sum of loan amount after replacing missing values with median:\", \n",
    "       loan2 ['LoanAmount']. sum())\n",
    "print (\"Number of missing values:\", loan2 ['LoanAmount'].isnull().sum())\n",
    "#Replacing missing values of continuous variable \"LoanAmount\" with mean.\n",
    "loan3=loandata.copy()\n",
    "loan3[ 'LoanAmount'].fillna (loan3 [ 'LoanAmount'].mean (), inplace=True)\n",
    "print (\"Sum of loan amount after replacing missing values with mean: \", \n",
    "       loan3 [ 'LoanAmount']. sum())\n",
    "print (\"Number of missing values: \", loan3 ['LoanAmount'].isnull().sum())\n",
    "#Replacing the categorical variable \"Gender\" with mode of Gender.\n",
    "loan4=loandata.copy()\n",
    "loan4 ['Gender'].fillna (loan4 ['Gender'].mode () .iloc[0], inplace=True) \n",
    "print (\"Missing values in Gender:\", loan4 ['Gender'].isnull().sum())\n",
    "#Replacing the categorical variable \"Married\" with \"Yes\".\n",
    "loan4 ['Married'].fillna ('Yes', inplace=True)\n",
    "print (\"Missing values in Married: \", loan4 ['Gender'].isnull().sum())\n"
   ]
  },
  {
   "cell_type": "code",
   "execution_count": null,
   "id": "5e589ec4-3c0f-4ec7-a599-3a27383fd9f7",
   "metadata": {},
   "outputs": [],
   "source": []
  }
 ],
 "metadata": {
  "kernelspec": {
   "display_name": "Python 3 (ipykernel)",
   "language": "python",
   "name": "python3"
  },
  "language_info": {
   "codemirror_mode": {
    "name": "ipython",
    "version": 3
   },
   "file_extension": ".py",
   "mimetype": "text/x-python",
   "name": "python",
   "nbconvert_exporter": "python",
   "pygments_lexer": "ipython3",
   "version": "3.12.0"
  }
 },
 "nbformat": 4,
 "nbformat_minor": 5
}
