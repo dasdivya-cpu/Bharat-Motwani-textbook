{
 "cells": [
  {
   "cell_type": "code",
   "execution_count": 1,
   "id": "76959e11-339e-46ec-8230-e54e1217375e",
   "metadata": {},
   "outputs": [
    {
     "name": "stdout",
     "output_type": "stream",
     "text": [
      "Dimension of the data set is:  (23486, 11)\n"
     ]
    }
   ],
   "source": [
    "#Importing necessary libraries.\n",
    "import pandas as pd\n",
    "import numpy as np\n",
    "#Reading the dataset.\n",
    "womendataset = pd.read_csv('WomensclothReviews.csv')\n",
    "#Displaying the dimension of the original dataset.\n",
    "print (\"Dimension of the data set is: \", womendataset.shape)\n"
   ]
  },
  {
   "cell_type": "code",
   "execution_count": 2,
   "id": "dc6120fa-0f88-4a63-9eec-be77c2b499a3",
   "metadata": {},
   "outputs": [
    {
     "name": "stdout",
     "output_type": "stream",
     "text": [
      "Dimension of the new data set is: (22641, 2)\n"
     ]
    },
    {
     "name": "stderr",
     "output_type": "stream",
     "text": [
      "C:\\Users\\CDAC\\AppData\\Local\\Temp\\ipykernel_9028\\4226281092.py:4: SettingWithCopyWarning: \n",
      "A value is trying to be set on a copy of a slice from a DataFrame\n",
      "\n",
      "See the caveats in the documentation: https://pandas.pydata.org/pandas-docs/stable/user_guide/indexing.html#returning-a-view-versus-a-copy\n",
      "  newwomendata.dropna (inplace=True)\n"
     ]
    }
   ],
   "source": [
    "#Creating new dataset of only Review Text and Recommended IND. \n",
    "newwomendata= womendataset [['Review Text', 'Recommended IND']]\n",
    "#Removing missing values.\n",
    "newwomendata.dropna (inplace=True)\n",
    "print (\"Dimension of the new data set is:\", newwomendata.shape)\n"
   ]
  },
  {
   "cell_type": "code",
   "execution_count": 3,
   "id": "133cb3b1-07dd-4e3d-a4c5-2ee944f77997",
   "metadata": {},
   "outputs": [
    {
     "name": "stdout",
     "output_type": "stream",
     "text": [
      "                                         Review Text  Recommended IND\n",
      "0  Absolutely wonderful - silky and sexy and comf...                1\n",
      "1  Love this dress!  it's sooo pretty.  i happene...                1\n",
      "2  I had such high hopes for this dress and reall...                0\n",
      "3  I love, love, love this jumpsuit. it's fun, fl...                1\n",
      "4  This shirt is very flattering to all due to th...                1\n"
     ]
    }
   ],
   "source": [
    "print (newwomendata.head())"
   ]
  },
  {
   "cell_type": "code",
   "execution_count": 6,
   "id": "4e13b35d-5084-4b75-9026-0f91268f3984",
   "metadata": {},
   "outputs": [
    {
     "name": "stderr",
     "output_type": "stream",
     "text": [
      "C:\\Users\\CDAC\\AppData\\Local\\Temp\\ipykernel_9028\\1024668160.py:2: SettingWithCopyWarning: \n",
      "A value is trying to be set on a copy of a slice from a DataFrame.\n",
      "Try using .loc[row_indexer,col_indexer] = value instead\n",
      "\n",
      "See the caveats in the documentation: https://pandas.pydata.org/pandas-docs/stable/user_guide/indexing.html#returning-a-view-versus-a-copy\n",
      "  newwomendata['Review Text']=newwomendata['Review Text'].astype (dtype='str')\n",
      "C:\\Users\\CDAC\\AppData\\Local\\Temp\\ipykernel_9028\\1024668160.py:9: SettingWithCopyWarning: \n",
      "A value is trying to be set on a copy of a slice from a DataFrame.\n",
      "Try using .loc[row_indexer,col_indexer] = value instead\n",
      "\n",
      "See the caveats in the documentation: https://pandas.pydata.org/pandas-docs/stable/user_guide/indexing.html#returning-a-view-versus-a-copy\n",
      "  newwomendata['Review Text']=lowercasedata\n"
     ]
    }
   ],
   "source": [
    "#Converting the Review Text column into a string data type. \n",
    "newwomendata['Review Text']=newwomendata['Review Text'].astype (dtype='str')\n",
    "#Converting the text to lower case.\n",
    "lower_list=[]\n",
    "for word in newwomendata['Review Text']: \n",
    "    lower_data = word. lower ()\n",
    "    lower_list.append(lower_data)\n",
    "lowercasedata=pd.DataFrame (lower_list) \n",
    "newwomendata['Review Text']=lowercasedata\n"
   ]
  },
  {
   "cell_type": "code",
   "execution_count": 8,
   "id": "569e1b8d-cafd-4fff-bf8d-12102f9354c2",
   "metadata": {},
   "outputs": [],
   "source": [
    "#Considering the data of only first 18000 rows.\n",
    "sentiments = newwomendata['Recommended IND'].values[:18000] \n",
    "reviews = newwomendata['Review Text'].values[:18000]\n"
   ]
  },
  {
   "cell_type": "code",
   "execution_count": 9,
   "id": "494a0394-7203-4879-a69e-6cc90b94a43c",
   "metadata": {},
   "outputs": [],
   "source": [
    "#Creating training and test datasets.\n",
    "reviews_trg = reviews [:14000]\n",
    "reviews_test = reviews [14000:] \n",
    "sentiments_trg = sentiments [:14000]\n",
    "sentiments_test = sentiments [14000:]"
   ]
  },
  {
   "cell_type": "code",
   "execution_count": 10,
   "id": "470bb88e-f432-4c21-90a0-c719424f821f",
   "metadata": {},
   "outputs": [
    {
     "name": "stdout",
     "output_type": "stream",
     "text": [
      "Dimension of reviews training data:  (14000,)\n",
      "Dimension of reviews test data:  (4000,)\n",
      "Dimension of sentiments training data:  (14000,)\n",
      "Dimension of sentiments test data:  (4000,)\n"
     ]
    }
   ],
   "source": [
    "#Determining the dimension of training and test datasets. \n",
    "print (\"Dimension of reviews training data: \", reviews_trg.shape) \n",
    "print (\"Dimension of reviews test data: \",reviews_test.shape)\n",
    "print (\"Dimension of sentiments training data: \", sentiments_trg.shape) \n",
    "print (\"Dimension of sentiments test data: \", sentiments_test.shape)"
   ]
  },
  {
   "cell_type": "code",
   "execution_count": 11,
   "id": "b726adcc-e71c-4200-95ac-d131bbef63ac",
   "metadata": {},
   "outputs": [],
   "source": [
    "#Importing necessary libraries.\n",
    "import re\n",
    "import nltk\n",
    "import numpy as np\n"
   ]
  },
  {
   "cell_type": "code",
   "execution_count": 12,
   "id": "942345d5-6f86-4cc6-9f2f-4c40fc232969",
   "metadata": {},
   "outputs": [],
   "source": [
    "#Creating a function for performing stemming.\n",
    "ps =nltk.porter. PorterStemmer ()\n",
    "def func_stemming (text, stemmer=ps):\n",
    "    text=''.join([stemmer.stem (word) for word in text.split()])\n",
    "    return text\n"
   ]
  },
  {
   "cell_type": "code",
   "execution_count": 13,
   "id": "86f09837-510f-4431-87ca-c9dd92b84612",
   "metadata": {},
   "outputs": [],
   "source": [
    "#Creating a function for removing special characters.\n",
    "def func_special_characters (text, remove_digits=False):\n",
    "    pattern = r'[^a-zA-Z0-9\\s]' if not remove_digits else r'[^a-zA-Z\\s]' \n",
    "    text = re.sub (pattern, '', text)\n",
    "    return text\n"
   ]
  },
  {
   "cell_type": "code",
   "execution_count": 14,
   "id": "230014ab-f854-4b96-bcfe-6849ade2066b",
   "metadata": {},
   "outputs": [],
   "source": [
    "#Creating a list of English stop words from the corpus.\n",
    "stop_words = nltk.corpus.stopwords.words ('english')\n",
    "#Removing words like 'no' and 'not' from the list of English stop words. \n",
    "stop_words.remove('no')\n",
    "stop_words.remove('not')\n"
   ]
  },
  {
   "cell_type": "code",
   "execution_count": 16,
   "id": "289d9556-055c-432c-bd06-b6a789fdfee0",
   "metadata": {},
   "outputs": [],
   "source": [
    "#Creating a function for removing stop words.\n",
    "def func_stopwords (text, stopwords=None):\n",
    "    tokens =nltk.word_tokenize (text)\n",
    "    tokens = [token. strip() for token in tokens]\n",
    "    filtered_tokens = [token for token in tokens if token not in stopwords] \n",
    "    filtered_text = ' '.join(filtered_tokens)\n",
    "    return filtered_text\n"
   ]
  },
  {
   "cell_type": "code",
   "execution_count": 24,
   "id": "e09ead18-926b-4e60-8dd7-a75d3925d1b5",
   "metadata": {},
   "outputs": [],
   "source": [
    "#Creating text preprocessing function. \n",
    "def func_text_process (document):\n",
    "    #Converting to lower case. \n",
    "    document = document.lower()\n",
    "    #Removing extra newlines.\n",
    "    document = document.replace('\\n', ' ').replace('\\t', ' ').replace('\\r', ' ')\n",
    "    #Remove special characters and/or digits.\n",
    "    document = func_special_characters (document, remove_digits=True)\n",
    "    #Stemming of text data using the function.\n",
    "    document = func_stemming (document)\n",
    "    #Removing stop words using the function.\n",
    "    document = func_stopwords (document, stopwords=stop_words)\n",
    "    #Removing extra whitespace.\n",
    "    document = re.sub(r'\\s+', ' ', document)\n",
    "    document = document.strip ()\n",
    "    return document\n"
   ]
  },
  {
   "cell_type": "code",
   "execution_count": 26,
   "id": "97898391-7f5f-47da-aa80-cd37f95042fd",
   "metadata": {},
   "outputs": [],
   "source": [
    "#Vectorizing the document.\n",
    "text_process = np.vectorize(func_text_process)"
   ]
  },
  {
   "cell_type": "code",
   "execution_count": 27,
   "id": "86d4ea28-6684-4dcd-b123-d71cac6a6e2d",
   "metadata": {},
   "outputs": [],
   "source": [
    "#Calling the text processing function for training and test datasets. \n",
    "process_train_reviews = text_process(reviews_trg)\n",
    "process_test_reviews = text_process(reviews_test)"
   ]
  },
  {
   "cell_type": "code",
   "execution_count": 32,
   "id": "ce082a05-a756-4ae9-95c8-e68f64fd32ee",
   "metadata": {},
   "outputs": [
    {
     "name": "stdout",
     "output_type": "stream",
     "text": [
      "CV model: Train features: (14000, 13996) Test features: (4000, 13996)\n"
     ]
    }
   ],
   "source": [
    "#Importing libraries for feature Extraction: CountVectorizer, TFIDF Vectorizer. \n",
    "from sklearn.feature_extraction.text import CountVectorizer, TfidfVectorizer\n",
    "#Using Count Vectorizer on train and test datasets.\n",
    "cv = CountVectorizer () \n",
    "cv_train_features=cv.fit_transform (process_train_reviews)\n",
    "cv_test_features = cv. transform (process_test_reviews)\n",
    "print('CV model: Train features:', cv_train_features.shape, \n",
    "      'Test features:', cv_test_features.shape)\n",
    "#Building TFIDF features with TFIDF Vectorizer on train and test datasets.\n",
    "tv = TfidfVectorizer (use_idf=True, min_df=1, max_df=0.9, ngram_range=(1,2),\n",
    "                      sublinear_tf=True) \n",
    "tv_train_features=tv.fit_transform(process_train_reviews)\n",
    "tv_test_features = tv.transform(process_test_reviews)\n"
   ]
  },
  {
   "cell_type": "code",
   "execution_count": 33,
   "id": "80694e9b-5046-47be-af43-9648d5ec281e",
   "metadata": {},
   "outputs": [
    {
     "name": "stdout",
     "output_type": "stream",
     "text": [
      "TFIDF model: Train features: (14000, 13996) Test features: (4000, 13996)\n"
     ]
    }
   ],
   "source": [
    "print('TFIDF model: Train features:', tv_train_features.shape,\n",
    "      'Test features:', tv_test_features.shape)\n"
   ]
  },
  {
   "cell_type": "code",
   "execution_count": 36,
   "id": "7665e7de-aa4a-41e9-8043-5fdc86926c27",
   "metadata": {},
   "outputs": [
    {
     "data": {
      "image/png": "[encoded data removed]",
      "text/plain": [
       "<Figure size 640x480 with 1 Axes>"
      ]
     },
     "metadata": {},
     "output_type": "display_data"
    }
   ],
   "source": [
    "#Importing necessary libraries. \n",
    "from sklearn.cluster import KMeans \n",
    "from collections import Counter \n",
    "import matplotlib.pyplot as plt\n",
    "#Determining optimum value of k using elbow method. \n",
    "from sklearn.cluster import KMeans\n",
    "list1=[]\n",
    "for i in range (1,11):\n",
    "    kmeans=KMeans (n_clusters=i, random_state=42) \n",
    "    kmeans.fit (tv_train_features)\n",
    "    list1.append(kmeans.inertia_) #inertia= WCSS\n",
    "#Creating a plot.\n",
    "plt.plot(range (1,11), list1, marker='o')\n",
    "plt.title('Elbow Method')\n",
    "plt.xlabel('Number of clusters')\n",
    "plt.ylabel('WCSS')\n",
    "plt.show()\n"
   ]
  },
  {
   "cell_type": "code",
   "execution_count": 40,
   "id": "7345a3f1-6224-4c16-817c-a159a258ad74",
   "metadata": {},
   "outputs": [
    {
     "name": "stdout",
     "output_type": "stream",
     "text": [
      "The function is created successfully\n"
     ]
    }
   ],
   "source": [
    "#Importing necessary libraries. \n",
    "import tensorflow as tf \n",
    "import transformers\n",
    "import tqdm\n",
    "from keras.preprocessing import sequence\n",
    "# Creating a function.\n",
    "def func_tokenizer(tokenizer_name, docs):\n",
    "    features = []\n",
    "    for doc in tqdm.tqdm (docs, desc=\"Converting documents to features\"): \n",
    "        tokens= tokenizer_name.tokenize(doc)\n",
    "        ids = tokenizer_name.convert_tokens_to_ids(tokens)\n",
    "        features.append(ids)\n",
    "    return features\n",
    "print (\"The function is created successfully\")\n"
   ]
  },
  {
   "cell_type": "code",
   "execution_count": 38,
   "id": "04f212e6-4ceb-4ba0-a716-b40f434631c6",
   "metadata": {},
   "outputs": [
    {
     "data": {
      "application/vnd.jupyter.widget-view+json": {
       "model_id": "3b8409e6502042e3b6e51606dae8fa91",
       "version_major": 2,
       "version_minor": 0
      },
      "text/plain": [
       "tokenizer_config.json:   0%|          | 0.00/48.0 [00:00<?, ?B/s]"
      ]
     },
     "metadata": {},
     "output_type": "display_data"
    },
    {
     "name": "stderr",
     "output_type": "stream",
     "text": [
      "C:\\Users\\CDAC\\AppData\\Local\\Programs\\Python\\Python312\\Lib\\site-packages\\huggingface_hub\\file_download.py:139: UserWarning: `huggingface_hub` cache-system uses symlinks by default to efficiently store duplicated files but your machine does not support them in C:\\Users\\CDAC\\.cache\\huggingface\\hub\\models--bert-base-uncased. Caching files will still work but in a degraded version that might require more space on your disk. This warning can be disabled by setting the `HF_HUB_DISABLE_SYMLINKS_WARNING` environment variable. For more details, see https://huggingface.co/docs/huggingface_hub/how-to-cache#limitations.\n",
      "To support symlinks on Windows, you either need to activate Developer Mode or to run Python as an administrator. In order to activate developer mode, see this article: https://docs.microsoft.com/en-us/windows/apps/get-started/enable-your-device-for-development\n",
      "  warnings.warn(message)\n"
     ]
    },
    {
     "data": {
      "application/vnd.jupyter.widget-view+json": {
       "model_id": "2df1fc07a83a42b99e366c8f90975ee4",
       "version_major": 2,
       "version_minor": 0
      },
      "text/plain": [
       "vocab.txt:   0%|          | 0.00/232k [00:00<?, ?B/s]"
      ]
     },
     "metadata": {},
     "output_type": "display_data"
    },
    {
     "data": {
      "application/vnd.jupyter.widget-view+json": {
       "model_id": "fdcd3a31234143b4939e9e874970ab32",
       "version_major": 2,
       "version_minor": 0
      },
      "text/plain": [
       "tokenizer.json:   0%|          | 0.00/466k [00:00<?, ?B/s]"
      ]
     },
     "metadata": {},
     "output_type": "display_data"
    },
    {
     "data": {
      "application/vnd.jupyter.widget-view+json": {
       "model_id": "ba886cc5b3de4bef8aa90d15ae15de1f",
       "version_major": 2,
       "version_minor": 0
      },
      "text/plain": [
       "config.json:   0%|          | 0.00/570 [00:00<?, ?B/s]"
      ]
     },
     "metadata": {},
     "output_type": "display_data"
    },
    {
     "ename": "NameError",
     "evalue": "name 'func_tokenizer' is not defined",
     "output_type": "error",
     "traceback": [
      "\u001b[1;31m---------------------------------------------------------------------------\u001b[0m",
      "\u001b[1;31mNameError\u001b[0m                                 Traceback (most recent call last)",
      "Cell \u001b[1;32mIn[38], line 5\u001b[0m\n\u001b[0;32m      3\u001b[0m bert_tokenizer \u001b[38;5;241m=\u001b[39m transformers\u001b[38;5;241m.\u001b[39mBertTokenizer\u001b[38;5;241m.\u001b[39mfrom_pretrained (\u001b[38;5;124m'\u001b[39m\u001b[38;5;124mbert-base-uncased\u001b[39m\u001b[38;5;124m'\u001b[39m) \n\u001b[0;32m      4\u001b[0m \u001b[38;5;66;03m#Calling the function to tokenize the data.\u001b[39;00m\n\u001b[1;32m----> 5\u001b[0m bert_trg_features\u001b[38;5;241m=\u001b[39m \u001b[43mfunc_tokenizer\u001b[49m(bert_tokenizer, reviews_trg) \n\u001b[0;32m      6\u001b[0m bert_test_features\u001b[38;5;241m=\u001b[39m func_tokenizer(bert_tokenizer, reviews_test)\n",
      "\u001b[1;31mNameError\u001b[0m: name 'func_tokenizer' is not defined"
     ]
    }
   ],
   "source": [
    "import transformers\n",
    "#Initializing a Bert Tokenizer.\n",
    "bert_tokenizer = transformers.BertTokenizer.from_pretrained ('bert-base-uncased') \n",
    "\n"
   ]
  },
  {
   "cell_type": "code",
   "execution_count": 41,
   "id": "2cd31aab-7e30-48a4-8b6f-19f1069401e3",
   "metadata": {},
   "outputs": [
    {
     "name": "stderr",
     "output_type": "stream",
     "text": [
      "Converting documents to features: 100%|████████████████████████████████████████| 14000/14000 [00:09<00:00, 1405.90it/s]\n",
      "Converting documents to features: 100%|██████████████████████████████████████████| 4000/4000 [00:02<00:00, 1361.32it/s]\n"
     ]
    }
   ],
   "source": [
    "#Calling the function to tokenize the data.\n",
    "bert_trg_features= func_tokenizer(bert_tokenizer, reviews_trg) \n",
    "bert_test_features= func_tokenizer(bert_tokenizer, reviews_test)"
   ]
  },
  {
   "cell_type": "code",
   "execution_count": 42,
   "id": "8ac8e500-fa45-4b37-ac39-3bb61f6151d5",
   "metadata": {},
   "outputs": [],
   "source": [
    "#Converting to a sequence.\n",
    "bert_trg =sequence.pad_sequences(bert_trg_features, maxlen=500) \n",
    "bert_test= sequence.pad_sequences(bert_test_features, maxlen=500)"
   ]
  },
  {
   "cell_type": "code",
   "execution_count": 44,
   "id": "57af9d0a-800a-4856-b995-eee811a44299",
   "metadata": {},
   "outputs": [
    {
     "data": {
      "image/png": "[encoded data removed]",
      "text/plain": [
       "<Figure size 640x480 with 1 Axes>"
      ]
     },
     "metadata": {},
     "output_type": "display_data"
    }
   ],
   "source": [
    "\n",
    "#Importing necessary libraries.\n",
    "from sklearn.cluster import KMeans \n",
    "from collections import Counter \n",
    "import matplotlib.pyplot as plt\n",
    "#Determining optimum value of k using elbow method. \n",
    "from sklearn.cluster import KMeans\n",
    "list1=[]\n",
    "for i in range (1,11):\n",
    "    kmeans= KMeans (n_clusters=i, random_state=42) \n",
    "    kmeans.fit(bert_trg)\n",
    "    list1.append(kmeans. inertia_)\n",
    "#Creating a plot.\n",
    "plt.plot(range (1,11), list1, marker='o') \n",
    "plt.title('Elbow Method for Bert Algorithm') \n",
    "plt.xlabel('Number of clusters') \n",
    "plt.ylabel('WCSS')\n",
    "plt.show()\n"
   ]
  },
  {
   "cell_type": "code",
   "execution_count": 46,
   "id": "b1e9a3e8-ef5f-4210-8c05-b07f2954ab40",
   "metadata": {},
   "outputs": [],
   "source": [
    "#Doing k-means clustering for optimum value of k.\n",
    "kmeans =KMeans(n_clusters=2, max_iter=100, random_state=42).fit(bert_trg)\n"
   ]
  },
  {
   "cell_type": "code",
   "execution_count": 47,
   "id": "2f7575b4-58be-4468-8c1c-e2cd8c9c4ac9",
   "metadata": {},
   "outputs": [
    {
     "data": {
      "text/plain": [
       "Counter({np.int32(1): 7758, np.int32(0): 6242})"
      ]
     },
     "execution_count": 47,
     "metadata": {},
     "output_type": "execute_result"
    }
   ],
   "source": [
    "Counter(kmeans.labels_)"
   ]
  },
  {
   "cell_type": "code",
   "execution_count": null,
   "id": "1f484146-b6c3-4f6f-ab9c-a32d9a42f95c",
   "metadata": {},
   "outputs": [],
   "source": []
  }
 ],
 "metadata": {
  "kernelspec": {
   "display_name": "Python 3 (ipykernel)",
   "language": "python",
   "name": "python3"
  },
  "language_info": {
   "codemirror_mode": {
    "name": "ipython",
    "version": 3
   },
   "file_extension": ".py",
   "mimetype": "text/x-python",
   "name": "python",
   "nbconvert_exporter": "python",
   "pygments_lexer": "ipython3",
   "version": "3.12.0"
  }
 },
 "nbformat": 4,
 "nbformat_minor": 5
}
